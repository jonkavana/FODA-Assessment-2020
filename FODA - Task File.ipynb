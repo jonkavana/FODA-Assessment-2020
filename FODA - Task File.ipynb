{
 "cells": [
  {
   "cell_type": "markdown",
   "metadata": {},
   "source": [
    "### Testing in the Jupyter Notebook view"
   ]
  },
  {
   "cell_type": "markdown",
   "metadata": {},
   "source": [
    "***"
   ]
  },
  {
   "cell_type": "markdown",
   "metadata": {},
   "source": [
    "#### Task 1\n",
    "\n",
    "We need to create a function that we call 'counts' that will take a list as an input and returns a dictionary as a result. \n",
    "In this disctionary, we need to be able to see the unique items that were input, and the number of times each unique item was counted. \n",
    "___"
   ]
  },
  {
   "cell_type": "code",
   "execution_count": 1,
   "metadata": {},
   "outputs": [],
   "source": [
    "def counts(list):\n",
    "    # this is where the important part is\n",
    "    dictionary = {}\n",
    "    \n",
    "    for letter in list:\n",
    "        if letter in dictionary:\n",
    "            dictionary[letter] += 1\n",
    "        else:\n",
    "            dictionary[letter] = 1\n",
    "            \n",
    "    return dictionary"
   ]
  },
  {
   "cell_type": "markdown",
   "metadata": {},
   "source": [
    "we need to set up the logic\n",
    "\n",
    "need a disctionary whose values always start at 0\n",
    "\n",
    "loop until no more items in the list\n",
    "    take next item in list\n",
    "    check if item is alreadu in dictionary\n",
    "        yes?\n",
    "            add one to vlaue associated with key\n",
    "        no?\n",
    "            put item in dictionary as key\n",
    "            add 1 to value of that key\n",
    "     put item in dictionary as key\n",
    "     add 1 to value of that key\n",
    "end loop"
   ]
  },
  {
   "cell_type": "code",
   "execution_count": 2,
   "metadata": {},
   "outputs": [
    {
     "data": {
      "text/plain": [
       "{'A': 7, 'B': 1, 'C': 1}"
      ]
     },
     "execution_count": 2,
     "metadata": {},
     "output_type": "execute_result"
    }
   ],
   "source": [
    "counts(['A', 'A', 'B', 'C', 'A', 'A', 'A', 'A', 'A'])"
   ]
  },
  {
   "cell_type": "markdown",
   "metadata": {},
   "source": [
    "#### References for Task 1\n",
    "\n",
    "LearnPython - Function\n",
    "https://www.learnpython.org/en/Functions\n",
    "\n",
    "Able.bio\n",
    "https://able.bio/rhett/check-if-a-key-exists-in-a-python-dictionary--73iajoz#\n",
    "\n",
    "\n",
    "___"
   ]
  },
  {
   "cell_type": "markdown",
   "metadata": {},
   "source": [
    "#### Task 2\n",
    "\n",
    "We need to create a function, called 'dicerolls', that will simulate rolling dice. There are two parameters of consideration that need to be reviewed. \n",
    "\n",
    "- Number of Dice: 'k'\n",
    "- Number of times that the dice are rolled: 'n'\n",
    "\n",
    "The aim of the function is to simulate the rolling of the dice, n times, and to keep track of the total of each face value. This should be stored in a disctionary, displaying the number of times each total face value happened.  \n",
    "___"
   ]
  },
  {
   "cell_type": "code",
   "execution_count": 3,
   "metadata": {},
   "outputs": [],
   "source": [
    "import numpy as np"
   ]
  },
  {
   "cell_type": "code",
   "execution_count": 4,
   "metadata": {},
   "outputs": [],
   "source": [
    "# What's this doing?\n",
    "\n",
    "rng = np.random.default_rng()"
   ]
  },
  {
   "cell_type": "code",
   "execution_count": 5,
   "metadata": {},
   "outputs": [
    {
     "data": {
      "text/plain": [
       "Generator(PCG64) at 0x2BF45766D60"
      ]
     },
     "execution_count": 5,
     "metadata": {},
     "output_type": "execute_result"
    }
   ],
   "source": [
    "# and again\n",
    "rng"
   ]
  },
  {
   "cell_type": "code",
   "execution_count": 6,
   "metadata": {},
   "outputs": [],
   "source": [
    " def dicerolls(dice, rolls):\n",
    "    resultdict = {}\n",
    "    rollresults = rng.integers(1, 7, size=rolls)\n",
    "       \n",
    "    for number in rollresults:\n",
    "        if number in resultdict:\n",
    "            resultdict[number] += 1\n",
    "        else:\n",
    "            resultdict[number] = 1\n",
    "    return resultdict"
   ]
  },
  {
   "cell_type": "code",
   "execution_count": 7,
   "metadata": {},
   "outputs": [],
   "source": [
    "# how to store an array inside an array \n",
    "\n",
    "def dicerolls(dice, rolls):\n",
    "    resultdict = {}\n",
    "    # print(rollresults)\n",
    "    \n",
    "    rollresults = []\n",
    "    \n",
    "    for x in range(0, dice):\n",
    "        rollresults.append(rng.integers(1, 7, size=rolls))\n",
    "      \n",
    "    summedresults = []\n",
    "    temparray = []\n",
    "    temparray2 = []\n",
    "    \n",
    "    for x in range(0, dice):\n",
    "        temparray = rollresults[x]\n",
    "        temparray2 = summedresults + temparray\n",
    "    print(summedresults)\n",
    "     \n",
    "    #for number in rollresults:\n",
    "        #if number in resultdict:\n",
    "            #resultdict[number] += 1\n",
    "        #else:\n",
    "           # resultdict[number] = 1\n",
    "   # return resultdict"
   ]
  },
  {
   "cell_type": "code",
   "execution_count": 8,
   "metadata": {},
   "outputs": [
    {
     "name": "stdout",
     "output_type": "stream",
     "text": [
      "[]\n"
     ]
    }
   ],
   "source": [
    "dicerolls(2, 1)"
   ]
  },
  {
   "cell_type": "code",
   "execution_count": 9,
   "metadata": {
    "scrolled": true
   },
   "outputs": [
    {
     "name": "stderr",
     "output_type": "stream",
     "text": [
      "<ipython-input-9-8c19f05cb1d0>:1: DeprecationWarning: This function is deprecated. Please call randint(1, 6 + 1) instead\n",
      "  d1 = np.random.random_integers(1, 6, 1000)\n",
      "<ipython-input-9-8c19f05cb1d0>:2: DeprecationWarning: This function is deprecated. Please call randint(1, 6 + 1) instead\n",
      "  d2 = np.random.random_integers(1, 6, 1000)\n"
     ]
    }
   ],
   "source": [
    "d1 = np.random.random_integers(1, 6, 1000)\n",
    "d2 = np.random.random_integers(1, 6, 1000)\n",
    "dsums = d1 + d2"
   ]
  },
  {
   "cell_type": "code",
   "execution_count": 10,
   "metadata": {
    "scrolled": true
   },
   "outputs": [
    {
     "name": "stdout",
     "output_type": "stream",
     "text": [
      "[2 3 5 2 5 2 5 2 2 5]\n",
      "[5 4 5 1 4 5 5 4 3 2]\n"
     ]
    }
   ],
   "source": [
    "d1 = np.random.randint(1, 6, 10)\n",
    "print(d1)\n",
    "d2 = np.random.randint(1, 6, 10)\n",
    "print(d2)\n",
    "dsums = d1 + d2"
   ]
  },
  {
   "cell_type": "code",
   "execution_count": 11,
   "metadata": {},
   "outputs": [
    {
     "data": {
      "text/plain": [
       "array([ 7,  7, 10,  3,  9,  7, 10,  6,  5,  7])"
      ]
     },
     "execution_count": 11,
     "metadata": {},
     "output_type": "execute_result"
    }
   ],
   "source": [
    "dsums"
   ]
  },
  {
   "cell_type": "markdown",
   "metadata": {},
   "source": [
    "#### References for Task 2\n",
    "\n",
    "Generate a permutation\n",
    "https://numpy.org/doc/stable/reference/random/generated/numpy.random.Generator.permutation.html?highlight=numpy%20random%20permutation#numpy.random.Generator.permutation\n",
    "\n",
    "Stack Overflow\n",
    "https://stackoverflow.com/questions/45069108/use-list-as-function-definition-parameters-in-python\n",
    "\n",
    "Old Refernece guide for Integers: \n",
    "https://numpy.org/doc/stable/reference/random/generated/numpy.random.randint.html#numpy.random.randint\n",
    "\n",
    "Append reference material \n",
    "https://www.w3schools.com/python/python_arrays.asp\n",
    "https://www.geeksforgeeks.org/append-extend-python/\n",
    "\n",
    "Integers\n",
    "https://numpy.org/doc/stable/reference/random/generated/numpy.random.Generator.integers.html#numpy.random.Generator.integers\n",
    "\n",
    "SciPy Array\n",
    "https://stackoverflow.com/questions/49881570/python-dictionaries-appending-arrays-to-a-dictionary-for-a-specific-key\n",
    "\n",
    "\n",
    "___"
   ]
  },
  {
   "cell_type": "markdown",
   "metadata": {},
   "source": [
    "#### Task 3\n",
    "\n",
    "Create a program that will simulate the flipping of a coin 100 times. \n",
    "Then we need to run this simulation 1000 times, keeping track of the number of times the 'heads' value occurred. \n",
    "\n",
    "Once we know the value of these 1000 simulations, we need to plot these values leveraging the binomial distribution package. The plot should, if completely correctly, should take a bell-curve distribution, whereby the occurances of values greater or lesser than 50 are the points at which the likelihood decreases. \n",
    "___"
   ]
  },
  {
   "cell_type": "code",
   "execution_count": 12,
   "metadata": {},
   "outputs": [],
   "source": [
    "n = 1\n",
    "# Number of trials"
   ]
  },
  {
   "cell_type": "code",
   "execution_count": 13,
   "metadata": {},
   "outputs": [],
   "source": [
    "p = 0.5\n",
    "# probability of each event"
   ]
  },
  {
   "cell_type": "code",
   "execution_count": 14,
   "metadata": {},
   "outputs": [
    {
     "data": {
      "text/plain": [
       "1"
      ]
     },
     "execution_count": 14,
     "metadata": {},
     "output_type": "execute_result"
    }
   ],
   "source": [
    "Toss = rng.binomial(n, p)\n",
    "Toss"
   ]
  },
  {
   "cell_type": "markdown",
   "metadata": {},
   "source": [
    "In our code above, we are simulating the outcome of one single coin toss, whereby n is the number of trails ans p is the probability of the outcome. As we have set the p value to 0.5, we have a fair chance of returning either heads or tails.\n",
    "\n",
    "If we were to introduce an element of bias into the equation, we would alter our p-value, in either direction. If we increase, we are saying that we are more likely to be successful to return a heads. If we reduce the p-value, it will be in favour of a failure, or tails being returned. \n",
    "\n",
    "We must now alter this code, so that the first request of the program is complete - simulate the toin coss 100 times."
   ]
  },
  {
   "cell_type": "code",
   "execution_count": 15,
   "metadata": {},
   "outputs": [],
   "source": [
    "n = 100"
   ]
  },
  {
   "cell_type": "code",
   "execution_count": 16,
   "metadata": {},
   "outputs": [],
   "source": [
    "p = 0.5"
   ]
  },
  {
   "cell_type": "code",
   "execution_count": 17,
   "metadata": {},
   "outputs": [
    {
     "data": {
      "text/plain": [
       "54"
      ]
     },
     "execution_count": 17,
     "metadata": {},
     "output_type": "execute_result"
    }
   ],
   "source": [
    "Toss = rng.binomial(n, p)\n",
    "Toss"
   ]
  },
  {
   "cell_type": "code",
   "execution_count": 18,
   "metadata": {},
   "outputs": [],
   "source": [
    "# I think that i might need to insert a new variable container in here for the values of the above"
   ]
  },
  {
   "cell_type": "markdown",
   "metadata": {},
   "source": [
    "Now that we have simulated a fair toss of a coin 100 times, we must now add in our next component as per the request. \n",
    "We must introduce a component into the code, so that simulation, is run 1,000 times. \n",
    "\n",
    "Given that we now that numpy has an extensive set of documentation, and we can call on binomial funciton to do the heavy-lifting, we will need to add in the size arguemnt into the statement. so we set size as 1000."
   ]
  },
  {
   "cell_type": "code",
   "execution_count": 19,
   "metadata": {},
   "outputs": [],
   "source": [
    "size = 1000"
   ]
  },
  {
   "cell_type": "code",
   "execution_count": 20,
   "metadata": {},
   "outputs": [
    {
     "data": {
      "text/plain": [
       "array([48, 56, 48, 53, 61, 44, 35, 49, 47, 38, 48, 52, 51, 45, 57, 54, 57,\n",
       "       46, 47, 54, 50, 45, 50, 47, 49, 44, 57, 45, 49, 39, 40, 52, 54, 51,\n",
       "       49, 43, 50, 54, 54, 58, 48, 61, 41, 52, 51, 54, 40, 53, 42, 49, 46,\n",
       "       52, 53, 49, 50, 50, 55, 53, 53, 57, 41, 53, 51, 48, 44, 49, 66, 43,\n",
       "       52, 50, 55, 49, 51, 45, 53, 48, 45, 54, 59, 50, 51, 55, 43, 48, 55,\n",
       "       43, 44, 51, 51, 55, 46, 41, 53, 53, 47, 54, 44, 55, 50, 46, 52, 50,\n",
       "       59, 54, 51, 47, 56, 49, 44, 58, 46, 49, 57, 60, 55, 52, 45, 43, 48,\n",
       "       45, 53, 52, 50, 55, 54, 55, 50, 56, 49, 50, 46, 51, 49, 50, 44, 49,\n",
       "       59, 51, 47, 46, 48, 49, 61, 52, 51, 56, 47, 51, 52, 50, 50, 47, 56,\n",
       "       49, 44, 48, 55, 51, 48, 45, 54, 51, 56, 47, 43, 52, 44, 55, 54, 48,\n",
       "       51, 43, 55, 50, 52, 53, 46, 60, 49, 47, 44, 46, 41, 47, 50, 47, 50,\n",
       "       41, 48, 54, 47, 54, 52, 47, 50, 46, 49, 52, 45, 60, 49, 48, 53, 49,\n",
       "       44, 51, 51, 53, 55, 42, 49, 44, 59, 46, 54, 42, 55, 49, 53, 51, 50,\n",
       "       46, 43, 46, 51, 58, 42, 49, 53, 48, 55, 54, 57, 57, 38, 56, 45, 43,\n",
       "       49, 55, 41, 49, 44, 48, 49, 45, 48, 44, 52, 53, 52, 53, 58, 52, 45,\n",
       "       41, 63, 49, 47, 49, 47, 50, 48, 50, 46, 58, 52, 44, 51, 51, 42, 46,\n",
       "       50, 52, 53, 47, 38, 46, 44, 52, 42, 47, 49, 56, 47, 43, 57, 53, 58,\n",
       "       45, 48, 45, 51, 49, 50, 51, 43, 48, 56, 52, 50, 53, 55, 43, 42, 49,\n",
       "       46, 52, 53, 52, 45, 60, 45, 54, 52, 56, 52, 57, 42, 54, 57, 58, 43,\n",
       "       53, 56, 53, 64, 54, 54, 42, 43, 48, 47, 45, 50, 51, 57, 54, 49, 44,\n",
       "       51, 45, 51, 47, 55, 48, 53, 49, 52, 50, 44, 55, 48, 48, 50, 46, 49,\n",
       "       51, 51, 45, 43, 42, 63, 54, 53, 50, 52, 44, 53, 59, 42, 44, 54, 49,\n",
       "       47, 42, 51, 59, 53, 51, 43, 50, 51, 51, 46, 39, 59, 50, 55, 49, 57,\n",
       "       49, 52, 52, 52, 43, 43, 48, 52, 50, 53, 45, 42, 44, 46, 42, 53, 43,\n",
       "       45, 44, 52, 54, 55, 44, 49, 49, 55, 54, 42, 51, 57, 53, 57, 49, 51,\n",
       "       46, 50, 57, 56, 56, 51, 62, 50, 43, 49, 53, 56, 54, 47, 47, 52, 55,\n",
       "       50, 49, 52, 41, 50, 48, 45, 61, 50, 44, 48, 54, 45, 48, 63, 57, 46,\n",
       "       48, 46, 54, 49, 45, 53, 48, 57, 50, 59, 49, 49, 47, 54, 59, 37, 52,\n",
       "       52, 53, 50, 53, 41, 49, 48, 50, 46, 55, 45, 43, 53, 50, 48, 44, 53,\n",
       "       58, 52, 48, 46, 40, 36, 50, 47, 42, 54, 59, 47, 47, 61, 54, 44, 43,\n",
       "       49, 50, 44, 47, 48, 49, 54, 54, 47, 46, 44, 49, 55, 59, 43, 54, 51,\n",
       "       48, 46, 55, 52, 48, 51, 49, 51, 48, 49, 43, 54, 43, 56, 44, 54, 49,\n",
       "       49, 54, 46, 50, 48, 49, 52, 56, 50, 47, 39, 49, 43, 57, 61, 48, 46,\n",
       "       54, 50, 47, 35, 53, 49, 51, 55, 54, 53, 48, 53, 55, 51, 51, 47, 44,\n",
       "       47, 52, 54, 51, 51, 46, 49, 48, 60, 51, 52, 52, 57, 46, 36, 45, 48,\n",
       "       47, 50, 54, 43, 48, 59, 56, 46, 59, 48, 57, 49, 41, 45, 49, 53, 36,\n",
       "       46, 52, 42, 50, 51, 54, 45, 48, 45, 50, 44, 57, 48, 49, 56, 45, 60,\n",
       "       53, 57, 58, 58, 46, 53, 55, 52, 48, 45, 54, 57, 61, 45, 45, 42, 50,\n",
       "       45, 45, 53, 46, 49, 45, 56, 56, 59, 57, 48, 54, 53, 49, 49, 45, 53,\n",
       "       39, 40, 51, 49, 45, 46, 57, 49, 59, 49, 54, 44, 64, 56, 45, 51, 56,\n",
       "       48, 52, 55, 59, 53, 44, 56, 51, 63, 56, 42, 50, 59, 41, 46, 55, 45,\n",
       "       47, 56, 68, 51, 49, 52, 47, 60, 44, 51, 52, 55, 50, 51, 59, 54, 50,\n",
       "       44, 49, 58, 52, 60, 50, 59, 52, 62, 49, 49, 44, 56, 49, 50, 52, 49,\n",
       "       61, 55, 50, 49, 54, 44, 53, 51, 41, 53, 47, 54, 50, 52, 48, 50, 44,\n",
       "       41, 55, 45, 44, 53, 46, 54, 52, 52, 47, 48, 53, 47, 50, 55, 51, 39,\n",
       "       57, 51, 53, 42, 60, 54, 53, 54, 50, 53, 48, 53, 50, 47, 51, 41, 51,\n",
       "       45, 46, 51, 51, 46, 46, 43, 49, 42, 58, 46, 53, 43, 52, 47, 44, 54,\n",
       "       46, 56, 52, 43, 50, 55, 50, 58, 51, 43, 50, 63, 50, 56, 46, 54, 58,\n",
       "       53, 47, 60, 54, 55, 55, 43, 46, 46, 52, 54, 63, 47, 50, 37, 48, 38,\n",
       "       52, 45, 48, 40, 64, 55, 58, 42, 47, 52, 48, 47, 55, 44, 48, 47, 50,\n",
       "       46, 45, 54, 47, 44, 44, 55, 44, 49, 51, 54, 56, 53, 54, 51, 53, 49,\n",
       "       55, 45, 60, 49, 51, 53, 63, 54, 50, 39, 56, 53, 46, 47, 53, 45, 44,\n",
       "       48, 59, 54, 56, 60, 49, 55, 52, 50, 45, 48, 45, 50, 58, 43, 45, 47,\n",
       "       42, 48, 55, 49, 51, 51, 42, 53, 50, 44, 52, 45, 51, 47, 49, 55, 44,\n",
       "       44, 53, 52, 59, 55, 53, 53, 46, 52, 47, 49, 49, 53, 52, 52, 45, 51,\n",
       "       49, 47, 50, 45, 55, 50, 49, 45, 43, 54, 36, 55, 53, 53, 46, 52, 61,\n",
       "       55, 47, 54, 41, 47, 42, 51, 48, 48, 56, 54, 45, 52, 55, 51, 50, 53,\n",
       "       40, 44, 47, 47, 53, 52, 52, 60, 48, 53, 49, 53, 44, 51, 49, 52, 50,\n",
       "       53, 54, 45, 54, 55, 50, 54, 55, 54, 46, 48, 52, 56, 58],\n",
       "      dtype=int64)"
      ]
     },
     "execution_count": 20,
     "metadata": {},
     "output_type": "execute_result"
    }
   ],
   "source": [
    "Toss = rng.binomial(n, p, size=size)\n",
    "Toss"
   ]
  },
  {
   "cell_type": "code",
   "execution_count": 21,
   "metadata": {},
   "outputs": [],
   "source": [
    "# need to be able to cut out the middle and readjust this line to be smaller, scroll option is available. "
   ]
  },
  {
   "cell_type": "markdown",
   "metadata": {},
   "source": [
    "What we have produced in the code above is are the result of a heads being returned from 100 tosses of a coin, 1000 times.\n",
    "\n",
    "The enxt point of consideration is to be able produce an image that will display these results. In order for this to be completed, we need to introduce new modules into the programme, MatPlotLib. As this is a very large package, we need to be more targeted in the modules to introduce, so we are going to choose the pyplot option."
   ]
  },
  {
   "cell_type": "code",
   "execution_count": 22,
   "metadata": {},
   "outputs": [],
   "source": [
    "import matplotlib.pyplot as plt\n",
    "# within this library, we are going to use a histogram to show the occurances."
   ]
  },
  {
   "cell_type": "code",
   "execution_count": 23,
   "metadata": {},
   "outputs": [
    {
     "data": {
      "image/png": "[encoded data removed]",
      "text/plain": [
       "<Figure size 432x288 with 1 Axes>"
      ]
     },
     "metadata": {
      "needs_background": "light"
     },
     "output_type": "display_data"
    }
   ],
   "source": [
    "plt.hist(Toss, 50, histtype='step')\n",
    "plt.xlabel('Heads')\n",
    "plt.ylabel('Heads')\n",
    "plt.show()"
   ]
  },
  {
   "cell_type": "markdown",
   "metadata": {},
   "source": [
    "As we can see from the distribution from the table above, we have a very large "
   ]
  },
  {
   "cell_type": "code",
   "execution_count": 24,
   "metadata": {},
   "outputs": [
    {
     "data": {
      "text/plain": [
       "0.0"
      ]
     },
     "execution_count": 24,
     "metadata": {},
     "output_type": "execute_result"
    }
   ],
   "source": [
    "sum(rng.binomial(n, p, 1) == 0) / 100"
   ]
  },
  {
   "cell_type": "markdown",
   "metadata": {},
   "source": [
    "#### References for Task 3\n",
    "\n",
    "Binomial Distribution Documentation\n",
    "https://numpy.org/doc/stable/reference/random/generated/numpy.random.binomial.html\n",
    "\n",
    "Matplotlib HIstogram\n",
    "https://matplotlib.org/3.1.1/api/_as_gen/matplotlib.pyplot.hist.html\n",
    "\n",
    "PyPlot Setup\n",
    "https://matplotlib.org/tutorials/introductory/pyplot.html\n",
    "\n",
    "CMDline tips\n",
    "https://cmdlinetips.com/2018/12/simulating-coin-toss-experiment-with-binomial-random-numbers-using-numpy/\n",
    "\n",
    "Numpy Binomial\n",
    "https://numpy.org/doc/stable/reference/random/generated/numpy.random.Generator.binomial.html#numpy.random.Generator.binomial\n",
    "\n",
    "Scipy Binomail Doc\n",
    "https://docs.scipy.org/doc/scipy/reference/generated/scipy.stats.binom.html#scipy.stats.binom\n",
    "\n",
    "Bell Curve Setup\n",
    "https://www.statology.org/bell-curve-python/\n",
    "\n",
    "SciPy Help\n",
    "https://docs.scipy.org/doc/scipy/reference/generated/scipy.stats.norm.html\n",
    "\n",
    "SciPy Setup\n",
    "https://scikit-learn.org/stable/tutorial/basic/tutorial.html\n",
    "\n",
    "\n",
    "___"
   ]
  },
  {
   "cell_type": "markdown",
   "metadata": {},
   "source": [
    "#### Task 4\n",
    "\n",
    "Simpson’s paradox is a well-known statistical paradox where a trend evident in a number of groups reverses when the groups are combined into one big data set. Use numpy to create four data sets, each with an x array and a corresponding y array, to demonstrate Simpson’s paradox. You might create your x arrays using numpy.linspace and create the y array for each\n",
    "x using notation like y = a * x + b where you choose the a and b for each x , y pair to demonstrate the paradox. \n",
    "\n",
    "___"
   ]
  },
  {
   "cell_type": "markdown",
   "metadata": {},
   "source": [
    "#### References for Task 4\n",
    "\n",
    "\n",
    "___"
   ]
  },
  {
   "cell_type": "markdown",
   "metadata": {},
   "source": [
    "### Bibliography"
   ]
  },
  {
   "cell_type": "markdown",
   "metadata": {},
   "source": [
    "LearnPython - Function\n",
    "https://www.learnpython.org/en/Functions\n",
    "\n",
    "\n",
    "Able.bio\n",
    "https://able.bio/rhett/check-if-a-key-exists-in-a-python-dictionary--73iajoz#:~:text=To%20simply%20check%20if%20a,')%20%23%20Dogs%20found!&text=A%20dictionary%20can%20be%20a,counting%20the%20occurrence%20of%20items.\n",
    "\n",
    "Stack Overflow\n",
    "https://stackoverflow.com/questions/45069108/use-list-as-function-definition-parameters-in-python\n",
    "\n",
    "Old Refernece guide for Integers: \n",
    "https://numpy.org/doc/stable/reference/random/generated/numpy.random.randint.html#numpy.random.randint\n"
   ]
  },
  {
   "cell_type": "code",
   "execution_count": null,
   "metadata": {},
   "outputs": [],
   "source": []
  },
  {
   "cell_type": "code",
   "execution_count": null,
   "metadata": {},
   "outputs": [],
   "source": []
  }
 ],
 "metadata": {
  "kernelspec": {
   "display_name": "Python 3",
   "language": "python",
   "name": "python3"
  },
  "language_info": {
   "codemirror_mode": {
    "name": "ipython",
    "version": 3
   },
   "file_extension": ".py",
   "mimetype": "text/x-python",
   "name": "python",
   "nbconvert_exporter": "python",
   "pygments_lexer": "ipython3",
   "version": "3.8.5"
  }
 },
 "nbformat": 4,
 "nbformat_minor": 4
}
