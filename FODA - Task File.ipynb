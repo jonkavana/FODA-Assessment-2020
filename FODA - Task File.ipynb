{
 "cells": [
  {
   "cell_type": "markdown",
   "metadata": {},
   "source": [
    "### Testing in the Jupyter Notebook view"
   ]
  },
  {
   "cell_type": "markdown",
   "metadata": {},
   "source": [
    "***"
   ]
  },
  {
   "cell_type": "markdown",
   "metadata": {},
   "source": [
    "#### Task 1\n",
    "\n",
    "We need to create a function that we call 'counts' that will take a list as an input and returns a dictionary as a result. \n",
    "In this disctionary, we need to be able to see the unique items that were input, and the number of times each unique item was counted. \n",
    "___"
   ]
  },
  {
   "cell_type": "code",
   "execution_count": 1,
   "metadata": {},
   "outputs": [],
   "source": [
    "def counts(list):\n",
    "    # this is where the important part is\n",
    "    dictionary = {}\n",
    "    \n",
    "    for letter in list:\n",
    "        if letter in dictionary:\n",
    "            dictionary[letter] += 1\n",
    "        else:\n",
    "            dictionary[letter] = 1\n",
    "            \n",
    "    return dictionary"
   ]
  },
  {
   "cell_type": "markdown",
   "metadata": {},
   "source": [
    "we need to set up the logic\n",
    "\n",
    "need a disctionary whose values always start at 0\n",
    "\n",
    "loop until no more items in the list\n",
    "    take next item in list\n",
    "    check if item is alreadu in dictionary\n",
    "        yes?\n",
    "            add one to vlaue associated with key\n",
    "        no?\n",
    "            put item in dictionary as key\n",
    "            add 1 to value of that key\n",
    "     put item in dictionary as key\n",
    "     add 1 to value of that key\n",
    "end loop"
   ]
  },
  {
   "cell_type": "code",
   "execution_count": 2,
   "metadata": {},
   "outputs": [
    {
     "data": {
      "text/plain": [
       "{'A': 7, 'B': 1, 'C': 1}"
      ]
     },
     "execution_count": 2,
     "metadata": {},
     "output_type": "execute_result"
    }
   ],
   "source": [
    "counts(['A', 'A', 'B', 'C', 'A', 'A', 'A', 'A', 'A'])"
   ]
  },
  {
   "cell_type": "markdown",
   "metadata": {},
   "source": [
    "#### References for Task 1\n",
    "\n",
    "LearnPython - Function\n",
    "https://www.learnpython.org/en/Functions\n",
    "\n",
    "Able.bio\n",
    "https://able.bio/rhett/check-if-a-key-exists-in-a-python-dictionary--73iajoz#\n",
    "\n",
    "\n",
    "___"
   ]
  },
  {
   "cell_type": "markdown",
   "metadata": {},
   "source": [
    "#### Task 2\n",
    "\n",
    "We need to create a function, called 'dicerolls', that will simulate rolling dice. There are two parameters of consideration that need to be reviewed. \n",
    "\n",
    "- Number of Dice: 'k'\n",
    "- Number of times that the dice are rolled: 'n'\n",
    "\n",
    "The aim of the function is to simulate the rolling of the dice, n times, and to keep track of the total of each face value. This should be stored in a disctionary, displaying the number of times each total face value happened.  \n",
    "___"
   ]
  },
  {
   "cell_type": "code",
   "execution_count": 3,
   "metadata": {},
   "outputs": [],
   "source": [
    "import numpy as np"
   ]
  },
  {
   "cell_type": "code",
   "execution_count": 4,
   "metadata": {},
   "outputs": [],
   "source": [
    "# What's this doing?\n",
    "\n",
    "rng = np.random.default_rng()"
   ]
  },
  {
   "cell_type": "code",
   "execution_count": 5,
   "metadata": {},
   "outputs": [
    {
     "data": {
      "text/plain": [
       "Generator(PCG64) at 0x28C70836D60"
      ]
     },
     "execution_count": 5,
     "metadata": {},
     "output_type": "execute_result"
    }
   ],
   "source": [
    "# and again\n",
    "rng"
   ]
  },
  {
   "cell_type": "code",
   "execution_count": 6,
   "metadata": {},
   "outputs": [],
   "source": [
    " def dicerolls(dice, rolls):\n",
    "    resultdict = {}\n",
    "    rollresults = rng.integers(1, 7, size=rolls)\n",
    "       \n",
    "    for number in rollresults:\n",
    "        if number in resultdict:\n",
    "            resultdict[number] += 1\n",
    "        else:\n",
    "            resultdict[number] = 1\n",
    "    return resultdict"
   ]
  },
  {
   "cell_type": "code",
   "execution_count": 7,
   "metadata": {},
   "outputs": [],
   "source": [
    "# how to store an array inside an array \n",
    "\n",
    "def dicerolls(dice, rolls):\n",
    "    resultdict = {}\n",
    "    # print(rollresults)\n",
    "    \n",
    "    rollresults = []\n",
    "    \n",
    "    for x in range(0, dice):\n",
    "        rollresults.append(rng.integers(1, 7, size=rolls))\n",
    "      \n",
    "    summedresults = []\n",
    "    temparray = []\n",
    "    temparray2 = []\n",
    "    \n",
    "    for x in range(0, dice):\n",
    "        temparray = rollresults[x]\n",
    "        temparray2 = summedresults + temparray\n",
    "    print(summedresults)\n",
    "     \n",
    "    #for number in rollresults:\n",
    "        #if number in resultdict:\n",
    "            #resultdict[number] += 1\n",
    "        #else:\n",
    "           # resultdict[number] = 1\n",
    "   # return resultdict"
   ]
  },
  {
   "cell_type": "code",
   "execution_count": 8,
   "metadata": {},
   "outputs": [
    {
     "name": "stdout",
     "output_type": "stream",
     "text": [
      "[]\n"
     ]
    }
   ],
   "source": [
    "dicerolls(2, 1)"
   ]
  },
  {
   "cell_type": "code",
   "execution_count": 9,
   "metadata": {
    "scrolled": true
   },
   "outputs": [
    {
     "name": "stderr",
     "output_type": "stream",
     "text": [
      "<ipython-input-9-8c19f05cb1d0>:1: DeprecationWarning: This function is deprecated. Please call randint(1, 6 + 1) instead\n",
      "  d1 = np.random.random_integers(1, 6, 1000)\n",
      "<ipython-input-9-8c19f05cb1d0>:2: DeprecationWarning: This function is deprecated. Please call randint(1, 6 + 1) instead\n",
      "  d2 = np.random.random_integers(1, 6, 1000)\n"
     ]
    }
   ],
   "source": [
    "d1 = np.random.random_integers(1, 6, 1000)\n",
    "d2 = np.random.random_integers(1, 6, 1000)\n",
    "dsums = d1 + d2"
   ]
  },
  {
   "cell_type": "code",
   "execution_count": 10,
   "metadata": {
    "scrolled": true
   },
   "outputs": [
    {
     "name": "stdout",
     "output_type": "stream",
     "text": [
      "[3 5 3 3 4 2 5 1 1 3]\n",
      "[1 1 5 1 3 2 4 5 4 3]\n"
     ]
    }
   ],
   "source": [
    "d1 = np.random.randint(1, 6, 10)\n",
    "print(d1)\n",
    "d2 = np.random.randint(1, 6, 10)\n",
    "print(d2)\n",
    "dsums = d1 + d2"
   ]
  },
  {
   "cell_type": "code",
   "execution_count": 11,
   "metadata": {},
   "outputs": [
    {
     "data": {
      "text/plain": [
       "array([4, 6, 8, 4, 7, 4, 9, 6, 5, 6])"
      ]
     },
     "execution_count": 11,
     "metadata": {},
     "output_type": "execute_result"
    }
   ],
   "source": [
    "dsums"
   ]
  },
  {
   "cell_type": "markdown",
   "metadata": {},
   "source": [
    "#### References for Task 2\n",
    "\n",
    "Generate a permutation\n",
    "https://numpy.org/doc/stable/reference/random/generated/numpy.random.Generator.permutation.html?highlight=numpy%20random%20permutation#numpy.random.Generator.permutation\n",
    "\n",
    "Stack Overflow\n",
    "https://stackoverflow.com/questions/45069108/use-list-as-function-definition-parameters-in-python\n",
    "\n",
    "Old Refernece guide for Integers: \n",
    "https://numpy.org/doc/stable/reference/random/generated/numpy.random.randint.html#numpy.random.randint\n",
    "\n",
    "Append reference material \n",
    "https://www.w3schools.com/python/python_arrays.asp\n",
    "https://www.geeksforgeeks.org/append-extend-python/\n",
    "\n",
    "Integers\n",
    "https://numpy.org/doc/stable/reference/random/generated/numpy.random.Generator.integers.html#numpy.random.Generator.integers\n",
    "\n",
    "SciPy Array\n",
    "https://stackoverflow.com/questions/49881570/python-dictionaries-appending-arrays-to-a-dictionary-for-a-specific-key\n",
    "\n",
    "\n",
    "___"
   ]
  },
  {
   "cell_type": "markdown",
   "metadata": {},
   "source": [
    "#### Task 3\n",
    "\n",
    "Create a program that will simulate the flipping of a coin 100 times. \n",
    "Then we need to run this simulation 1000 times, keeping track of the number of times the 'heads' value occurred. \n",
    "\n",
    "Once we know the value of these 1000 simulations, we need to plot these values leveraging the binomial distribution package. The plot should, if completely correctly, should take a bell-curve distribution, whereby the occurances of values greater or lesser than 50 are the points at which the likelihood decreases. \n",
    "___"
   ]
  },
  {
   "cell_type": "code",
   "execution_count": 12,
   "metadata": {},
   "outputs": [],
   "source": [
    "n = 1\n",
    "# Number of trials"
   ]
  },
  {
   "cell_type": "code",
   "execution_count": 13,
   "metadata": {},
   "outputs": [],
   "source": [
    "p = 0.5\n",
    "# probability of each event"
   ]
  },
  {
   "cell_type": "code",
   "execution_count": 14,
   "metadata": {},
   "outputs": [
    {
     "data": {
      "text/plain": [
       "0"
      ]
     },
     "execution_count": 14,
     "metadata": {},
     "output_type": "execute_result"
    }
   ],
   "source": [
    "Toss = rng.binomial(n, p)\n",
    "Toss"
   ]
  },
  {
   "cell_type": "markdown",
   "metadata": {},
   "source": [
    "In our code above, we are simulating the outcome of one single coin toss, whereby n is the number of trails ans p is the probability of the outcome. As we have set the p value to 0.5, we have a fair chance of returning either heads or tails.\n",
    "\n",
    "If we were to introduce an element of bias into the equation, we would alter our p-value, in either direction. If we increase, we are saying that we are more likely to be successful to return a heads. If we reduce the p-value, it will be in favour of a failure, or tails being returned. \n",
    "\n",
    "We must now alter this code, so that the first request of the program is complete - simulate the toin coss 100 times."
   ]
  },
  {
   "cell_type": "code",
   "execution_count": 15,
   "metadata": {},
   "outputs": [],
   "source": [
    "n = 100"
   ]
  },
  {
   "cell_type": "code",
   "execution_count": 16,
   "metadata": {},
   "outputs": [],
   "source": [
    "p = 0.5"
   ]
  },
  {
   "cell_type": "code",
   "execution_count": 17,
   "metadata": {},
   "outputs": [
    {
     "data": {
      "text/plain": [
       "51"
      ]
     },
     "execution_count": 17,
     "metadata": {},
     "output_type": "execute_result"
    }
   ],
   "source": [
    "Toss = rng.binomial(n, p)\n",
    "Toss"
   ]
  },
  {
   "cell_type": "code",
   "execution_count": 18,
   "metadata": {},
   "outputs": [],
   "source": [
    "# I think that i might need to insert a new variable container in here for the values of the above"
   ]
  },
  {
   "cell_type": "markdown",
   "metadata": {},
   "source": [
    "Now that we have simulated a fair toss of a coin 100 times, we must now add in our next component as per the request. \n",
    "We must introduce a component into the code, so that simulation, is run 1,000 times. \n",
    "\n",
    "Given that we now that numpy has an extensive set of documentation, and we can call on binomial funciton to do the heavy-lifting, we will need to add in the size arguemnt into the statement. so we set size as 1000."
   ]
  },
  {
   "cell_type": "code",
   "execution_count": 19,
   "metadata": {},
   "outputs": [],
   "source": [
    "size = 1000"
   ]
  },
  {
   "cell_type": "code",
   "execution_count": 20,
   "metadata": {},
   "outputs": [
    {
     "data": {
      "text/plain": [
       "array([48, 55, 58, 55, 49, 41, 50, 56, 45, 37, 51, 54, 46, 50, 50, 55, 50,\n",
       "       55, 52, 52, 44, 47, 56, 50, 55, 46, 52, 43, 47, 49, 52, 42, 43, 41,\n",
       "       38, 49, 56, 43, 61, 56, 49, 50, 51, 50, 43, 51, 49, 50, 52, 50, 48,\n",
       "       52, 45, 53, 53, 49, 54, 45, 50, 46, 52, 61, 49, 44, 46, 47, 57, 58,\n",
       "       51, 53, 49, 50, 44, 49, 51, 49, 51, 47, 48, 50, 54, 57, 41, 48, 48,\n",
       "       56, 52, 59, 43, 51, 55, 47, 59, 58, 44, 51, 45, 47, 50, 41, 49, 47,\n",
       "       53, 45, 46, 45, 49, 49, 39, 48, 54, 40, 51, 52, 56, 58, 54, 39, 46,\n",
       "       49, 41, 44, 51, 44, 40, 50, 54, 46, 50, 44, 53, 49, 54, 41, 48, 43,\n",
       "       50, 38, 48, 54, 55, 52, 51, 46, 48, 61, 39, 46, 50, 50, 48, 53, 53,\n",
       "       43, 48, 47, 46, 51, 52, 47, 48, 44, 56, 51, 57, 48, 61, 51, 50, 47,\n",
       "       58, 48, 51, 43, 52, 49, 51, 52, 44, 46, 45, 50, 47, 59, 45, 54, 51,\n",
       "       44, 51, 51, 56, 58, 46, 55, 41, 48, 50, 49, 52, 55, 47, 53, 55, 57,\n",
       "       46, 45, 50, 54, 49, 49, 44, 44, 44, 42, 53, 44, 47, 47, 45, 49, 52,\n",
       "       52, 51, 56, 48, 47, 57, 47, 47, 55, 43, 45, 44, 42, 54, 48, 53, 60,\n",
       "       48, 41, 50, 52, 40, 66, 55, 56, 49, 50, 52, 50, 51, 49, 56, 44, 48,\n",
       "       59, 47, 47, 55, 50, 52, 47, 50, 49, 54, 55, 56, 54, 50, 44, 55, 56,\n",
       "       46, 51, 49, 48, 40, 46, 54, 44, 53, 50, 53, 42, 53, 44, 41, 50, 48,\n",
       "       54, 50, 57, 53, 39, 49, 50, 51, 41, 48, 48, 45, 50, 45, 62, 46, 56,\n",
       "       44, 44, 53, 50, 49, 53, 40, 39, 45, 46, 41, 43, 55, 52, 45, 50, 53,\n",
       "       58, 49, 48, 58, 49, 52, 54, 55, 53, 52, 46, 55, 52, 46, 48, 43, 49,\n",
       "       47, 43, 54, 51, 51, 50, 57, 52, 53, 44, 42, 52, 49, 44, 52, 52, 56,\n",
       "       53, 52, 50, 51, 45, 55, 58, 50, 48, 56, 53, 51, 51, 53, 53, 52, 48,\n",
       "       48, 46, 46, 56, 52, 49, 52, 54, 51, 57, 65, 47, 42, 53, 52, 54, 48,\n",
       "       40, 49, 58, 53, 44, 49, 46, 48, 54, 54, 53, 50, 51, 51, 53, 48, 48,\n",
       "       46, 56, 45, 51, 59, 53, 52, 60, 55, 53, 53, 48, 49, 53, 58, 60, 51,\n",
       "       43, 58, 49, 49, 55, 51, 60, 50, 53, 44, 48, 54, 54, 39, 59, 37, 47,\n",
       "       53, 55, 48, 46, 48, 48, 52, 48, 55, 49, 51, 52, 46, 51, 51, 50, 49,\n",
       "       44, 49, 41, 47, 59, 45, 60, 46, 47, 59, 51, 50, 49, 49, 46, 58, 52,\n",
       "       54, 53, 56, 53, 51, 49, 47, 51, 57, 56, 51, 54, 51, 44, 47, 50, 51,\n",
       "       49, 50, 44, 52, 53, 46, 55, 52, 46, 55, 43, 53, 37, 54, 46, 48, 52,\n",
       "       54, 62, 53, 60, 51, 50, 53, 48, 54, 52, 39, 55, 47, 50, 48, 46, 55,\n",
       "       44, 47, 54, 47, 58, 52, 39, 52, 50, 48, 47, 49, 45, 60, 38, 51, 54,\n",
       "       55, 51, 56, 66, 51, 50, 51, 55, 49, 47, 49, 50, 56, 48, 53, 49, 50,\n",
       "       52, 50, 45, 52, 47, 48, 53, 50, 51, 50, 52, 47, 55, 49, 55, 53, 49,\n",
       "       45, 45, 55, 42, 53, 51, 46, 50, 51, 51, 54, 47, 45, 51, 54, 49, 41,\n",
       "       48, 54, 46, 35, 56, 48, 45, 60, 55, 42, 50, 37, 60, 51, 48, 55, 48,\n",
       "       50, 51, 42, 56, 47, 59, 53, 56, 49, 52, 58, 59, 47, 48, 50, 54, 43,\n",
       "       44, 47, 49, 48, 46, 65, 47, 52, 43, 46, 48, 48, 55, 45, 46, 51, 42,\n",
       "       51, 48, 50, 45, 48, 42, 47, 52, 49, 44, 53, 53, 43, 55, 49, 49, 49,\n",
       "       45, 48, 51, 53, 58, 45, 53, 47, 45, 50, 51, 45, 45, 49, 53, 51, 54,\n",
       "       47, 54, 46, 52, 60, 49, 47, 49, 54, 50, 56, 56, 49, 49, 45, 50, 57,\n",
       "       49, 52, 44, 46, 49, 54, 45, 47, 58, 55, 42, 52, 52, 49, 61, 45, 53,\n",
       "       51, 46, 46, 56, 46, 54, 45, 49, 43, 50, 50, 48, 49, 56, 48, 60, 47,\n",
       "       48, 49, 50, 62, 56, 52, 54, 37, 53, 47, 57, 45, 44, 44, 55, 53, 57,\n",
       "       44, 46, 51, 46, 53, 51, 59, 46, 50, 46, 45, 48, 43, 55, 45, 48, 49,\n",
       "       58, 44, 54, 56, 47, 47, 51, 49, 51, 44, 44, 54, 48, 42, 49, 35, 50,\n",
       "       47, 48, 53, 45, 40, 51, 61, 54, 47, 50, 53, 46, 48, 55, 44, 53, 52,\n",
       "       38, 45, 56, 49, 55, 57, 53, 54, 48, 49, 54, 51, 53, 52, 48, 55, 43,\n",
       "       54, 53, 46, 46, 46, 60, 48, 48, 40, 45, 50, 57, 45, 61, 61, 58, 55,\n",
       "       46, 50, 38, 51, 48, 52, 50, 45, 54, 52, 45, 55, 46, 44, 44, 53, 63,\n",
       "       59, 55, 53, 44, 50, 49, 51, 51, 44, 52, 45, 38, 51, 43, 46, 60, 48,\n",
       "       54, 49, 47, 55, 53, 51, 50, 47, 49, 50, 51, 53, 49, 56, 49, 51, 52,\n",
       "       52, 42, 50, 49, 49, 47, 44, 50, 54, 57, 55, 45, 40, 45, 49, 45, 50,\n",
       "       44, 51, 54, 47, 48, 52, 58, 47, 47, 53, 54, 42, 46, 50, 49, 50, 52,\n",
       "       56, 48, 40, 54, 47, 52, 58, 49, 46, 53, 48, 51, 53, 61, 46, 48, 53,\n",
       "       60, 53, 54, 57, 51, 53, 46, 48, 48, 56, 46, 57, 58, 57, 42, 53, 54,\n",
       "       44, 48, 56, 57, 62, 52, 45, 56, 55, 45, 48, 47, 51, 48, 49, 49, 49,\n",
       "       60, 48, 51, 42, 44, 41, 62, 54, 52, 48, 46, 47, 49, 48, 50, 51, 55,\n",
       "       52, 53, 48, 42, 54, 46, 58, 52, 52, 53, 57, 45, 62, 39],\n",
       "      dtype=int64)"
      ]
     },
     "execution_count": 20,
     "metadata": {},
     "output_type": "execute_result"
    }
   ],
   "source": [
    "Toss = rng.binomial(n, p, size=size)\n",
    "Toss"
   ]
  },
  {
   "cell_type": "code",
   "execution_count": 21,
   "metadata": {},
   "outputs": [],
   "source": [
    "# need to be able to cut out the middle and readjust this line to be smaller, scroll option is available. "
   ]
  },
  {
   "cell_type": "markdown",
   "metadata": {},
   "source": [
    "What we have produced in the code above is are the result of a heads being returned from 100 tosses of a coin, 1000 times.\n",
    "\n",
    "The enxt point of consideration is to be able produce an image that will display these results. In order for this to be completed, we need to introduce new modules into the programme, MatPlotLib. As this is a very large package, we need to be more targeted in the modules to introduce, so we are going to choose the pyplot option."
   ]
  },
  {
   "cell_type": "code",
   "execution_count": 22,
   "metadata": {},
   "outputs": [],
   "source": [
    "import matplotlib.pyplot as plt\n",
    "# within this library, we are going to use a histogram to show the occurances."
   ]
  },
  {
   "cell_type": "code",
   "execution_count": 46,
   "metadata": {},
   "outputs": [
    {
     "data": {
      "image/png": "[encoded data removed]",
      "text/plain": [
       "<Figure size 432x288 with 1 Axes>"
      ]
     },
     "metadata": {
      "needs_background": "light"
     },
     "output_type": "display_data"
    }
   ],
   "source": [
    "count, bins, ignore = plt.hist(Toss, 50, density=True, histtype='bar', label='Result of tossing a coin')\n",
    "plt.xlabel('Heads')\n",
    "plt.ylabel('Heads')\n",
    "plt.show()"
   ]
  },
  {
   "cell_type": "markdown",
   "metadata": {},
   "source": [
    "As we can see from the distribution from the table above, we have a very large "
   ]
  },
  {
   "cell_type": "code",
   "execution_count": 55,
   "metadata": {},
   "outputs": [],
   "source": [
    "#[np.equal(Toss, i).sum() for i in range(n)]"
   ]
  },
  {
   "cell_type": "code",
   "execution_count": 56,
   "metadata": {},
   "outputs": [],
   "source": [
    "#probs_1000 = [np.equal(Toss,i).mean() for i in range(n)]\n",
    "#print(probs_1000)"
   ]
  },
  {
   "cell_type": "code",
   "execution_count": 57,
   "metadata": {},
   "outputs": [],
   "source": [
    "#plt.xticks(range(n))\n",
    "#plt.plot(list(range(n)), probs_1000, color='blue', marker='o')\n",
    "#plt.xlabel('Number of Heads',fontsize=14)\n",
    "#plt.ylabel('Probability',fontsize=14)"
   ]
  },
  {
   "cell_type": "code",
   "execution_count": 58,
   "metadata": {},
   "outputs": [],
   "source": [
    "#mu, sigma = 100, 0.5 # mean and sd\n",
    "#s = rng.normal(mu, sigma, 1000)\n",
    "#abs(mu - np.mean(s))\n",
    "#abs(sigma - np.std(s, ddof=1))\n",
    "#count, bins, ignored = plt.hist(s, 50, density=True)\n",
    "#plt.plot(bins, 1/(sigma * np.sqrt(2 * np.pi)) *\n",
    "               #np.exp( - (bins - mu)**2 / (2 * sigma**2) ),\n",
    "         #linewidth=2, color='r')"
   ]
  },
  {
   "cell_type": "code",
   "execution_count": 59,
   "metadata": {},
   "outputs": [
    {
     "data": {
      "text/plain": [
       "0.0"
      ]
     },
     "execution_count": 59,
     "metadata": {},
     "output_type": "execute_result"
    }
   ],
   "source": [
    "sum(rng.binomial(n, p, 1) == 0) / 100"
   ]
  },
  {
   "cell_type": "markdown",
   "metadata": {},
   "source": [
    "#### References for Task 3\n",
    "\n",
    "Binomial Distribution Documentation\n",
    "https://numpy.org/doc/stable/reference/random/generated/numpy.random.binomial.html\n",
    "\n",
    "Matplotlib HIstogram\n",
    "https://matplotlib.org/3.1.1/api/_as_gen/matplotlib.pyplot.hist.html\n",
    "\n",
    "PyPlot Setup\n",
    "https://matplotlib.org/tutorials/introductory/pyplot.html\n",
    "\n",
    "CMDline tips\n",
    "https://cmdlinetips.com/2018/12/simulating-coin-toss-experiment-with-binomial-random-numbers-using-numpy/\n",
    "\n",
    "Numpy Binomial\n",
    "https://numpy.org/doc/stable/reference/random/generated/numpy.random.Generator.binomial.html#numpy.random.Generator.binomial\n",
    "\n",
    "Scipy Binomail Doc\n",
    "https://docs.scipy.org/doc/scipy/reference/generated/scipy.stats.binom.html#scipy.stats.binom\n",
    "\n",
    "Bell Curve Setup\n",
    "https://www.statology.org/bell-curve-python/\n",
    "\n",
    "SciPy Help\n",
    "https://docs.scipy.org/doc/scipy/reference/generated/scipy.stats.norm.html\n",
    "\n",
    "SciPy Setup\n",
    "https://scikit-learn.org/stable/tutorial/basic/tutorial.html\n",
    "\n",
    "numpy.equal\n",
    "https://numpy.org/doc/stable/reference/generated/numpy.equal.html\n",
    "\n",
    "\n",
    "___"
   ]
  },
  {
   "cell_type": "markdown",
   "metadata": {},
   "source": [
    "#### Task 4\n",
    "\n",
    "Simpson’s paradox is a well-known statistical paradox where a trend evident in a number of groups reverses when the groups are combined into one big data set. Use numpy to create four data sets, each with an x array and a corresponding y array, to demonstrate Simpson’s paradox. You might create your x arrays using numpy.linspace and create the y array for each\n",
    "x using notation like y = a * x + b where you choose the a and b for each x , y pair to demonstrate the paradox. \n",
    "\n",
    "___"
   ]
  },
  {
   "cell_type": "code",
   "execution_count": 67,
   "metadata": {},
   "outputs": [
    {
     "data": {
      "text/plain": [
       "array([2.  , 2.25, 2.5 , 2.75, 3.  ])"
      ]
     },
     "execution_count": 67,
     "metadata": {},
     "output_type": "execute_result"
    }
   ],
   "source": [
    "Arr1x = np.linspace(2.0, 3.0, num=5)\n",
    "Arr1x"
   ]
  },
  {
   "cell_type": "code",
   "execution_count": 68,
   "metadata": {},
   "outputs": [
    {
     "data": {
      "text/plain": [
       "array([20. , 22.5, 25. , 27.5, 30. ])"
      ]
     },
     "execution_count": 68,
     "metadata": {},
     "output_type": "execute_result"
    }
   ],
   "source": [
    "Arr1y = 10 * Arr1x\n",
    "Arr1y"
   ]
  },
  {
   "cell_type": "code",
   "execution_count": 69,
   "metadata": {},
   "outputs": [
    {
     "data": {
      "text/plain": [
       "array([10.        , 10.55555556, 11.11111111, 11.66666667, 12.22222222,\n",
       "       12.77777778, 13.33333333, 13.88888889, 14.44444444, 15.        ])"
      ]
     },
     "execution_count": 69,
     "metadata": {},
     "output_type": "execute_result"
    }
   ],
   "source": [
    "Arr2x = np.linspace(10, 15, 10)\n",
    "Arr2x"
   ]
  },
  {
   "cell_type": "code",
   "execution_count": 70,
   "metadata": {},
   "outputs": [
    {
     "data": {
      "text/plain": [
       "array([24.        , 25.11111111, 26.22222222, 27.33333333, 28.44444444,\n",
       "       29.55555556, 30.66666667, 31.77777778, 32.88888889, 34.        ])"
      ]
     },
     "execution_count": 70,
     "metadata": {},
     "output_type": "execute_result"
    }
   ],
   "source": [
    "Arr2y = 2.0* Arr2x + 4.0\n",
    "Arr2y"
   ]
  },
  {
   "cell_type": "code",
   "execution_count": 71,
   "metadata": {},
   "outputs": [
    {
     "data": {
      "text/plain": [
       "array([16., 17., 18., 19., 20., 21., 22., 23., 24., 25., 26., 27., 28.,\n",
       "       29., 30., 31., 32., 33., 34., 35., 36., 37., 38., 39., 40., 41.,\n",
       "       42., 43., 44., 45.])"
      ]
     },
     "execution_count": 71,
     "metadata": {},
     "output_type": "execute_result"
    }
   ],
   "source": [
    "Arr3x = np.linspace(16, 45, 30)\n",
    "Arr3x"
   ]
  },
  {
   "cell_type": "code",
   "execution_count": 72,
   "metadata": {},
   "outputs": [
    {
     "data": {
      "text/plain": [
       "array([ 79.,  84.,  89.,  94.,  99., 104., 109., 114., 119., 124., 129.,\n",
       "       134., 139., 144., 149., 154., 159., 164., 169., 174., 179., 184.,\n",
       "       189., 194., 199., 204., 209., 214., 219., 224.])"
      ]
     },
     "execution_count": 72,
     "metadata": {},
     "output_type": "execute_result"
    }
   ],
   "source": [
    "Arr3y = 5.0 * Arr3x - 1.0\n",
    "Arr3y"
   ]
  },
  {
   "cell_type": "code",
   "execution_count": 74,
   "metadata": {},
   "outputs": [
    {
     "data": {
      "text/plain": [
       "array([2.        , 2.07692308, 2.15384615, 2.23076923, 2.30769231,\n",
       "       2.38461538, 2.46153846, 2.53846154, 2.61538462, 2.69230769,\n",
       "       2.76923077, 2.84615385, 2.92307692, 3.        , 3.07692308,\n",
       "       3.15384615, 3.23076923, 3.30769231, 3.38461538, 3.46153846,\n",
       "       3.53846154, 3.61538462, 3.69230769, 3.76923077, 3.84615385,\n",
       "       3.92307692, 4.        , 4.07692308, 4.15384615, 4.23076923,\n",
       "       4.30769231, 4.38461538, 4.46153846, 4.53846154, 4.61538462,\n",
       "       4.69230769, 4.76923077, 4.84615385, 4.92307692, 5.        ])"
      ]
     },
     "execution_count": 74,
     "metadata": {},
     "output_type": "execute_result"
    }
   ],
   "source": [
    "Arr4x = np.linspace(2.0, 5.0, 40)\n",
    "Arr4x"
   ]
  },
  {
   "cell_type": "code",
   "execution_count": 75,
   "metadata": {},
   "outputs": [
    {
     "data": {
      "text/plain": [
       "array([ 8.        ,  8.19230769,  8.38461538,  8.57692308,  8.76923077,\n",
       "        8.96153846,  9.15384615,  9.34615385,  9.53846154,  9.73076923,\n",
       "        9.92307692, 10.11538462, 10.30769231, 10.5       , 10.69230769,\n",
       "       10.88461538, 11.07692308, 11.26923077, 11.46153846, 11.65384615,\n",
       "       11.84615385, 12.03846154, 12.23076923, 12.42307692, 12.61538462,\n",
       "       12.80769231, 13.        , 13.19230769, 13.38461538, 13.57692308,\n",
       "       13.76923077, 13.96153846, 14.15384615, 14.34615385, 14.53846154,\n",
       "       14.73076923, 14.92307692, 15.11538462, 15.30769231, 15.5       ])"
      ]
     },
     "execution_count": 75,
     "metadata": {},
     "output_type": "execute_result"
    }
   ],
   "source": [
    "Arr4y = 2.5* Arr4x + 3.0\n",
    "Arr4y"
   ]
  },
  {
   "cell_type": "code",
   "execution_count": 78,
   "metadata": {},
   "outputs": [
    {
     "data": {
      "text/plain": [
       "<function matplotlib.pyplot.show(close=None, block=None)>"
      ]
     },
     "execution_count": 78,
     "metadata": {},
     "output_type": "execute_result"
    },
    {
     "data": {
      "image/png": "[encoded data removed]",
      "text/plain": [
       "<Figure size 432x288 with 1 Axes>"
      ]
     },
     "metadata": {
      "needs_background": "light"
     },
     "output_type": "display_data"
    }
   ],
   "source": [
    "plt.plot(Arr1x, Arr1y, 'x')\n",
    "plt.plot(Arr2x, Arr2y, 'o')\n",
    "plt.plot(Arr3x, Arr3y, 'o')\n",
    "plt.plot(Arr4x, Arr4y, 'o')\n",
    "plt.show"
   ]
  },
  {
   "cell_type": "markdown",
   "metadata": {},
   "source": [
    "#### References for Task 4\n",
    "\n",
    "\n",
    "___"
   ]
  },
  {
   "cell_type": "markdown",
   "metadata": {},
   "source": [
    "### Bibliography"
   ]
  },
  {
   "cell_type": "markdown",
   "metadata": {},
   "source": [
    "LearnPython - Function\n",
    "https://www.learnpython.org/en/Functions\n",
    "\n",
    "\n",
    "Able.bio\n",
    "https://able.bio/rhett/check-if-a-key-exists-in-a-python-dictionary--73iajoz#:~:text=To%20simply%20check%20if%20a,')%20%23%20Dogs%20found!&text=A%20dictionary%20can%20be%20a,counting%20the%20occurrence%20of%20items.\n",
    "\n",
    "Stack Overflow\n",
    "https://stackoverflow.com/questions/45069108/use-list-as-function-definition-parameters-in-python\n",
    "\n",
    "Old Refernece guide for Integers: \n",
    "https://numpy.org/doc/stable/reference/random/generated/numpy.random.randint.html#numpy.random.randint\n"
   ]
  },
  {
   "cell_type": "code",
   "execution_count": null,
   "metadata": {},
   "outputs": [],
   "source": []
  },
  {
   "cell_type": "code",
   "execution_count": null,
   "metadata": {},
   "outputs": [],
   "source": []
  }
 ],
 "metadata": {
  "kernelspec": {
   "display_name": "Python 3",
   "language": "python",
   "name": "python3"
  },
  "language_info": {
   "codemirror_mode": {
    "name": "ipython",
    "version": 3
   },
   "file_extension": ".py",
   "mimetype": "text/x-python",
   "name": "python",
   "nbconvert_exporter": "python",
   "pygments_lexer": "ipython3",
   "version": "3.8.5"
  }
 },
 "nbformat": 4,
 "nbformat_minor": 4
}
