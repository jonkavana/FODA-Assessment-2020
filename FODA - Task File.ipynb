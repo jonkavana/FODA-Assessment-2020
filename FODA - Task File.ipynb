{
 "cells": [
  {
   "cell_type": "markdown",
   "metadata": {},
   "source": [
    "### Testing in the Jupyter Notebook view"
   ]
  },
  {
   "cell_type": "markdown",
   "metadata": {},
   "source": [
    "***"
   ]
  },
  {
   "cell_type": "markdown",
   "metadata": {},
   "source": [
    "#### Task 1\n",
    "\n",
    "We need to create a function that we call 'counts' that will take a list as an input and returns a dictionary as a result. \n",
    "In this disctionary, we need to be able to see the unique items that were input, and the number of times each unique item was counted. \n",
    "___"
   ]
  },
  {
   "cell_type": "markdown",
   "metadata": {},
   "source": [
    "Logical Rationale:\n",
    "\n",
    "\n",
    "- Need a dictionary whose values always start at 0\n",
    "- Create a list that will be looped through until the end.\n",
    "    - loop until no more items in the list\n",
    "        - take next item in list\n",
    "        - check if item is already in dictionary\n",
    "            - yes?\n",
    "        - add one to value associated with key\n",
    "             - no?\n",
    "        - put item in dictionary as key\n",
    "            - add 1 to value of that key\n",
    "        - put item in dictionary as key\n",
    "        - add 1 to value of that key\n",
    "    - end loop"
   ]
  },
  {
   "cell_type": "code",
   "execution_count": 1,
   "metadata": {},
   "outputs": [],
   "source": [
    "def counts(list):\n",
    "    dictionary = {}\n",
    "    \n",
    "    for letter in list:\n",
    "        if letter in dictionary:\n",
    "            dictionary[letter] += 1\n",
    "        else:\n",
    "            dictionary[letter] = 1\n",
    "            \n",
    "    return dictionary"
   ]
  },
  {
   "cell_type": "code",
   "execution_count": 2,
   "metadata": {},
   "outputs": [],
   "source": [
    "counts(['A', 'A', 'B', 'C', 'A', 'A', 'X', 'F'])"
   ]
  },
  {
   "cell_type": "markdown",
   "metadata": {},
   "source": [
    "#### Overview of algorithm\n",
    "\n",
    "The sites that are listed below were all used in the creation of the algorithm above. I knew, from first read of the task itself, that there would be a need to loop. Given that the output of the code was to be in a dictionary format, i knew i would need to review and understand the key:value pairing that it utilises. \n",
    "Give that there was also a constraint on the exercise, that of not being able to depend on anything from the standard library, i knew that I would need to  be more comfortable in the official documentation, so that I could avoid anything that would be considered to be part of this constraint. \n",
    "___"
   ]
  },
  {
   "cell_type": "markdown",
   "metadata": {},
   "source": [
    "#### References for Task 1\n",
    "\n",
    "Python - The Python Standard Library, retrieved on October 12th 2020 \n",
    "https://docs.python.org/3/library/\n",
    "\n",
    "RealPython - How to Iterate Through a Dictionary in Python, retrieved on October 12th 2020\n",
    "https://realpython.com/iterate-through-dictionary-python/\n",
    "\n",
    "LearnPython - Function, retrieved on October 14th 2020\n",
    "https://www.learnpython.org/en/Functions\n",
    "\n",
    "Able.bio, retrieved on October 14th 2020\n",
    "https://able.bio/rhett/check-if-a-key-exists-in-a-python-dictionary--73iajoz#\n",
    "\n",
    "W3Schools - For Loops Explanation, retrieved on October 14th 2020\n",
    "https://www.w3schools.com/python/python_for_loops.asp\n",
    "\n",
    "___"
   ]
  },
  {
   "cell_type": "markdown",
   "metadata": {},
   "source": [
    "#### Task 2\n",
    "\n",
    "We need to create a function, called 'dicerolls', that will simulate rolling dice.\n",
    "\n",
    "There are two parameters of consideration that need to be catered for. \n",
    "\n",
    "- Number of Dice: 'k'\n",
    "- Number of times that the dice are rolled: 'n'\n",
    "\n",
    "The aim of the function is to simulate the rolling of the dice, n times, and to keep track of the total of each face value.\n",
    "\n",
    "This should be stored in a dictionary, displaying the number of times each total face value happened.  \n",
    "___"
   ]
  },
  {
   "cell_type": "code",
   "execution_count": 69,
   "metadata": {},
   "outputs": [],
   "source": [
    "import numpy as np"
   ]
  },
  {
   "cell_type": "code",
   "execution_count": 70,
   "metadata": {},
   "outputs": [
    {
     "data": {
      "text/plain": [
       "Generator(PCG64) at 0x1CC1BDFD310"
      ]
     },
     "execution_count": 70,
     "metadata": {},
     "output_type": "execute_result"
    }
   ],
   "source": [
    "# Instantiate the generator/programme and run it\n",
    "\n",
    "rng = np.random.default_rng()\n",
    "rng"
   ]
  },
  {
   "cell_type": "markdown",
   "metadata": {},
   "source": [
    "At a high level, we need to be able to display that we can print two arrays to the screen, and then add them together.\n",
    "\n",
    "Taking the code block from the following [Numpy Documentation](https://numpy.org/doc/stable/reference/random/generated/numpy.random.random_integers.html), we can set up a very quick and simple array."
   ]
  },
  {
   "cell_type": "code",
   "execution_count": 79,
   "metadata": {},
   "outputs": [
    {
     "name": "stdout",
     "output_type": "stream",
     "text": [
      "[1 4 4 3 4 2 1 4 1 4]\n",
      "[1 2 5 1 4 1 4 5 1 5]\n"
     ]
    }
   ],
   "source": [
    "d1 = np.random.randint(1, 6, 10)\n",
    "print(d1)\n",
    "d2 = np.random.randint(1, 6, 10)\n",
    "print(d2)\n",
    "dsums = d1 + d2"
   ]
  },
  {
   "cell_type": "code",
   "execution_count": 80,
   "metadata": {},
   "outputs": [
    {
     "data": {
      "text/plain": [
       "array([2, 6, 9, 4, 8, 3, 5, 9, 2, 9])"
      ]
     },
     "execution_count": 80,
     "metadata": {},
     "output_type": "execute_result"
    }
   ],
   "source": [
    "dsums"
   ]
  },
  {
   "cell_type": "markdown",
   "metadata": {},
   "source": [
    "___"
   ]
  },
  {
   "cell_type": "markdown",
   "metadata": {},
   "source": [
    "Now, we pivot to the request of the exercise. "
   ]
  },
  {
   "cell_type": "code",
   "execution_count": 71,
   "metadata": {},
   "outputs": [],
   "source": [
    " def dicerolls(dice, rolls):\n",
    "    resultdict = {}\n",
    "    rollresults = rng.integers(1, 7, size=rolls)\n",
    "       \n",
    "    for number in rollresults:\n",
    "        if number in resultdict:\n",
    "            resultdict[number] += 1\n",
    "        else:\n",
    "            resultdict[number] = 1\n",
    "    return resultdict"
   ]
  },
  {
   "cell_type": "code",
   "execution_count": 72,
   "metadata": {},
   "outputs": [],
   "source": [
    "# how to store an array inside an array \n",
    "\n",
    "def dicerolls(dice, rolls):\n",
    "    resultdict = {}\n",
    "    # print(rollresults)\n",
    "    \n",
    "    rollresults = []\n",
    "    \n",
    "    for x in range(0, dice):\n",
    "        rollresults.append(rng.integers(1, 7, size=rolls))\n",
    "      \n",
    "    summedresults = []\n",
    "    temparray = []\n",
    "    temparray2 = []\n",
    "    \n",
    "    for x in range(0, dice):\n",
    "        temparray = rollresults[x]\n",
    "        temparray2 = summedresults + temparray\n",
    "    print(summedresults)\n",
    "     \n",
    "    #for number in rollresults:\n",
    "        #if number in resultdict:\n",
    "            #resultdict[number] += 1\n",
    "        #else:\n",
    "           # resultdict[number] = 1\n",
    "   # return resultdict"
   ]
  },
  {
   "cell_type": "code",
   "execution_count": 76,
   "metadata": {},
   "outputs": [
    {
     "name": "stdout",
     "output_type": "stream",
     "text": [
      "[]\n"
     ]
    }
   ],
   "source": [
    "dicerolls(2, 1)"
   ]
  },
  {
   "cell_type": "code",
   "execution_count": 81,
   "metadata": {},
   "outputs": [],
   "source": [
    "# Current blocker is an inability to add an array within an array.\n",
    "# How to update a dictionary so that key-value pairing is updated with new values."
   ]
  },
  {
   "cell_type": "markdown",
   "metadata": {},
   "source": [
    "#### References for Task 2\n",
    "\n",
    "Numpy - Generate a permutation - retrieved on 14th November 2020\n",
    "https://numpy.org/doc/stable/reference/random/generated/numpy.random.Generator.permutation.html?highlight=numpy%20random%20permutation#numpy.random.Generator.permutation\n",
    "\n",
    "Stack Overflow - Function Parameters - retrieved on 14th November 2020\n",
    "https://stackoverflow.com/questions/45069108/use-list-as-function-definition-parameters-in-python\n",
    "\n",
    "Numpy - Old Refernece guide for Integers - retrieved on 14th November 2020\n",
    "https://numpy.org/doc/stable/reference/random/generated/numpy.random.randint.html#numpy.random.randint\n",
    "\n",
    "W3Schools - Append reference material - retrieved on 16th November 2020\n",
    "https://www.w3schools.com/python/python_arrays.asp\n",
    "\n",
    "Geeks for geeks - Append reference material - retrieved on 16th November 2020\n",
    "https://www.geeksforgeeks.org/append-extend-python/\n",
    "\n",
    "Numpy - Generator for integers - retrieved on 16th November 2020\n",
    "https://numpy.org/doc/stable/reference/random/generated/numpy.random.Generator.integers.html#numpy.random.Generator.integers\n",
    "\n",
    "SciPy Array - retrieved on 16th November 2020\n",
    "https://stackoverflow.com/questions/49881570/python-dictionaries-appending-arrays-to-a-dictionary-for-a-specific-key\n",
    "\n",
    "\n",
    "___"
   ]
  },
  {
   "cell_type": "markdown",
   "metadata": {},
   "source": [
    "#### Task 3\n",
    "\n",
    "Create a program that will simulate the flipping of a coin 100 times. \n",
    "Then we need to run this simulation 1000 times, keeping track of the number of times the 'heads' value occurred. Given that this is a boolean outcome, whereby the result is either 1 or 0, we have associated heads with the positive value of 1. Tails, the other outcome will take the 0 value. \n",
    "\n",
    "Once we know the outcome of these 1000 simulations, we need to plot these values leveraging the binomial distribution package. The plot should, if completed correctly take a bell-curve distribution, whereby the occurances of values greater or lesser than 50 are the points at which the likelihood decreases. "
   ]
  },
  {
   "cell_type": "markdown",
   "metadata": {},
   "source": [
    "___"
   ]
  },
  {
   "cell_type": "markdown",
   "metadata": {},
   "source": [
    "Lets set our programme to return the basic result of one coin, tossed once. "
   ]
  },
  {
   "cell_type": "code",
   "execution_count": 10,
   "metadata": {},
   "outputs": [],
   "source": [
    "np.random.seed"
   ]
  },
  {
   "cell_type": "code",
   "execution_count": 11,
   "metadata": {},
   "outputs": [],
   "source": [
    "n = 1\n",
    "# Number of trials"
   ]
  },
  {
   "cell_type": "code",
   "execution_count": 12,
   "metadata": {},
   "outputs": [],
   "source": [
    "p = 0.5\n",
    "# probability of the outcome. We are stating that there is a 50% likelihood of heads or tails occuring. "
   ]
  },
  {
   "cell_type": "code",
   "execution_count": 13,
   "metadata": {},
   "outputs": [],
   "source": [
    "Toss = rng.binomial(n, p)\n",
    "Toss"
   ]
  },
  {
   "cell_type": "markdown",
   "metadata": {},
   "source": [
    "In our code above, we are simulating the outcome of one single coin toss, whereby n is the number of trials and p is the probability of the outcome. As we have set the p value to 0.5, we have a fair chance of returning either heads or tails.\n",
    "\n",
    "If we were to introduce an element of bias into the equation, we would alter our p-value, in either direction. If we increase the p-value upwards towards one, we are saying that we are more likely to be successful to return a heads. If we reduce the p-value, it will be in favour of tails being returned. \n",
    "\n",
    "We must now alter this code, so that the first request of the program is complete - simulate the coin toss occurring 100 times."
   ]
  },
  {
   "cell_type": "code",
   "execution_count": 14,
   "metadata": {},
   "outputs": [],
   "source": [
    "np.random.seed"
   ]
  },
  {
   "cell_type": "code",
   "execution_count": 15,
   "metadata": {},
   "outputs": [],
   "source": [
    "n = 100"
   ]
  },
  {
   "cell_type": "code",
   "execution_count": 16,
   "metadata": {},
   "outputs": [],
   "source": [
    "p = 0.5"
   ]
  },
  {
   "cell_type": "code",
   "execution_count": 17,
   "metadata": {},
   "outputs": [
    {
     "data": {
      "text/plain": [
       "51"
      ]
     },
     "execution_count": 17,
     "metadata": {},
     "output_type": "execute_result"
    }
   ],
   "source": [
    "Toss = rng.binomial(n, p)\n",
    "Toss"
   ]
  },
  {
   "cell_type": "markdown",
   "metadata": {},
   "source": [
    "Now that we have simulated a fair toss of a coin 100 times, we must now add in our next component as per the exercise. \n",
    "We must introduce a component into the code, so that the simulation, is run 1,000 times. \n",
    "\n",
    "Given that we know that numpy has an extensive set of documentation we can call on binomial distribution module to do the heavy-lifting. \n",
    "In order to run the simulation 1,000 times, we need to introduce the arguement 'size' into the statement. \n",
    "\n",
    "From reviewing the documentation, we can simply call a variable of the same name to that value."
   ]
  },
  {
   "cell_type": "code",
   "execution_count": 18,
   "metadata": {},
   "outputs": [],
   "source": [
    "size = 1000"
   ]
  },
  {
   "cell_type": "markdown",
   "metadata": {},
   "source": [
    "So that we can isolate the simulation of 100 tosses from that of 100 tosses 1,000 times, we take the statement and rename the variable, such that we now have the variable SecToss"
   ]
  },
  {
   "cell_type": "code",
   "execution_count": 19,
   "metadata": {
    "scrolled": true
   },
   "outputs": [
    {
     "data": {
      "text/plain": [
       "array([51, 49, 48, 52, 47, 55, 49, 44, 46, 59, 46, 49, 59, 49, 46, 47, 51,\n",
       "       50, 47, 53, 54, 50, 53, 55, 50, 52, 51, 54, 51, 60, 44, 53, 49, 58,\n",
       "       40, 49, 56, 51, 57, 50, 58, 59, 46, 53, 48, 48, 50, 65, 59, 49, 54,\n",
       "       51, 51, 50, 45, 46, 46, 48, 58, 57, 42, 48, 56, 52, 42, 41, 46, 48,\n",
       "       49, 52, 49, 50, 42, 49, 46, 52, 56, 57, 53, 50, 45, 54, 54, 46, 40,\n",
       "       50, 50, 50, 54, 47, 55, 52, 52, 56, 54, 54, 46, 51, 53, 44, 60, 57,\n",
       "       52, 46, 51, 39, 51, 42, 53, 47, 58, 51, 46, 40, 49, 50, 53, 50, 47,\n",
       "       48, 45, 39, 59, 50, 55, 51, 47, 46, 45, 47, 44, 44, 39, 54, 48, 56,\n",
       "       48, 52, 53, 40, 45, 50, 40, 52, 41, 59, 59, 53, 37, 49, 42, 47, 59,\n",
       "       51, 44, 49, 51, 40, 51, 55, 54, 50, 44, 49, 59, 54, 55, 43, 45, 50,\n",
       "       56, 54, 50, 59, 51, 47, 37, 43, 44, 51, 49, 46, 55, 46, 58, 46, 46,\n",
       "       51, 39, 54, 51, 55, 46, 52, 53, 52, 48, 61, 55, 51, 46, 51, 42, 51,\n",
       "       46, 45, 49, 51, 50, 59, 49, 48, 53, 57, 49, 58, 48, 47, 53, 52, 39,\n",
       "       47, 43, 49, 49, 48, 45, 56, 40, 54, 50, 53, 54, 46, 55, 49, 55, 46,\n",
       "       46, 50, 44, 39, 54, 49, 53, 49, 58, 39, 52, 48, 51, 45, 47, 43, 53,\n",
       "       49, 53, 48, 44, 56, 58, 47, 48, 49, 54, 49, 51, 48, 49, 51, 44, 52,\n",
       "       50, 53, 52, 48, 53, 57, 49, 49, 49, 46, 55, 60, 39, 45, 53, 55, 51,\n",
       "       52, 51, 55, 49, 52, 52, 50, 48, 55, 49, 54, 45, 56, 54, 39, 42, 50,\n",
       "       52, 53, 49, 44, 49, 53, 52, 47, 47, 61, 49, 48, 54, 49, 55, 51, 43,\n",
       "       55, 46, 51, 58, 46, 51, 51, 57, 50, 49, 51, 49, 45, 49, 49, 48, 46,\n",
       "       48, 54, 44, 52, 53, 46, 53, 47, 50, 56, 52, 52, 45, 59, 51, 47, 49,\n",
       "       50, 41, 44, 60, 50, 43, 45, 48, 53, 53, 44, 54, 55, 52, 62, 48, 56,\n",
       "       57, 58, 41, 53, 51, 52, 55, 44, 54, 50, 47, 49, 43, 53, 60, 59, 53,\n",
       "       54, 46, 50, 54, 56, 56, 48, 58, 46, 53, 46, 48, 45, 56, 56, 43, 50,\n",
       "       44, 53, 51, 49, 48, 52, 49, 54, 43, 56, 46, 42, 50, 52, 55, 53, 58,\n",
       "       50, 55, 50, 50, 58, 51, 49, 40, 54, 45, 47, 50, 57, 51, 46, 55, 47,\n",
       "       47, 46, 52, 64, 43, 55, 53, 47, 46, 50, 43, 52, 47, 49, 45, 47, 53,\n",
       "       47, 42, 48, 57, 49, 48, 56, 51, 48, 45, 57, 47, 53, 47, 50, 53, 43,\n",
       "       46, 54, 54, 52, 56, 56, 52, 48, 47, 53, 46, 56, 49, 52, 52, 47, 54,\n",
       "       48, 41, 55, 47, 44, 52, 50, 45, 50, 45, 52, 36, 61, 52, 56, 51, 49,\n",
       "       49, 43, 47, 64, 53, 46, 53, 60, 51, 60, 40, 52, 61, 49, 57, 46, 50,\n",
       "       50, 46, 53, 49, 42, 51, 55, 46, 50, 46, 49, 52, 53, 49, 49, 54, 52,\n",
       "       51, 52, 49, 54, 51, 46, 52, 57, 46, 51, 41, 41, 51, 53, 55, 45, 53,\n",
       "       54, 42, 48, 53, 51, 52, 48, 55, 51, 55, 46, 60, 53, 46, 52, 46, 43,\n",
       "       48, 49, 53, 49, 47, 55, 43, 42, 43, 44, 40, 50, 57, 50, 52, 54, 50,\n",
       "       48, 47, 47, 45, 55, 52, 51, 57, 49, 55, 59, 50, 42, 42, 60, 45, 49,\n",
       "       45, 48, 46, 50, 54, 49, 52, 53, 51, 40, 47, 45, 48, 51, 49, 43, 42,\n",
       "       50, 50, 43, 50, 43, 39, 53, 61, 49, 53, 53, 51, 48, 49, 51, 47, 55,\n",
       "       49, 52, 55, 56, 44, 46, 54, 48, 53, 47, 63, 47, 59, 44, 56, 58, 43,\n",
       "       61, 55, 53, 57, 53, 50, 54, 51, 50, 55, 40, 51, 47, 42, 49, 53, 45,\n",
       "       50, 50, 58, 57, 61, 46, 49, 50, 51, 49, 59, 42, 53, 54, 54, 49, 49,\n",
       "       45, 35, 47, 45, 49, 39, 48, 54, 50, 42, 57, 54, 46, 49, 54, 44, 46,\n",
       "       50, 41, 61, 50, 49, 41, 53, 48, 51, 50, 52, 49, 40, 46, 46, 53, 47,\n",
       "       47, 48, 46, 52, 57, 54, 50, 47, 50, 53, 43, 52, 64, 55, 47, 48, 51,\n",
       "       49, 44, 40, 40, 53, 46, 44, 49, 44, 57, 53, 43, 41, 49, 52, 49, 48,\n",
       "       57, 54, 52, 60, 47, 42, 51, 44, 44, 54, 45, 50, 50, 50, 55, 48, 40,\n",
       "       46, 51, 52, 60, 48, 56, 49, 50, 50, 52, 53, 47, 54, 45, 42, 51, 52,\n",
       "       50, 46, 40, 43, 52, 52, 53, 41, 47, 48, 45, 56, 43, 48, 42, 48, 55,\n",
       "       51, 41, 49, 58, 47, 47, 56, 50, 55, 49, 53, 51, 48, 50, 53, 53, 49,\n",
       "       58, 42, 43, 61, 48, 60, 48, 52, 46, 45, 44, 45, 43, 56, 57, 48, 42,\n",
       "       49, 53, 47, 55, 48, 52, 53, 54, 47, 49, 58, 39, 43, 55, 63, 52, 53,\n",
       "       56, 49, 38, 58, 48, 57, 57, 47, 55, 53, 51, 50, 63, 50, 40, 46, 53,\n",
       "       49, 46, 46, 47, 55, 48, 40, 48, 57, 52, 43, 47, 47, 54, 37, 44, 50,\n",
       "       44, 41, 40, 50, 46, 53, 50, 51, 48, 39, 47, 57, 43, 54, 48, 53, 45,\n",
       "       52, 51, 38, 57, 56, 51, 55, 50, 47, 53, 48, 48, 46, 46, 50, 53, 48,\n",
       "       56, 53, 53, 48, 48, 49, 45, 55, 53, 51, 54, 66, 50, 50, 44, 44, 50,\n",
       "       53, 49, 44, 52, 50, 47, 47, 59, 49, 55, 53, 49, 43, 46, 48, 48, 53,\n",
       "       51, 47, 49, 52, 46, 55, 49, 52, 44, 44, 49, 55, 53, 53, 56, 55, 50,\n",
       "       53, 45, 46, 48, 47, 49, 47, 61, 47, 45, 47, 44, 56, 51],\n",
       "      dtype=int64)"
      ]
     },
     "execution_count": 19,
     "metadata": {},
     "output_type": "execute_result"
    }
   ],
   "source": [
    "SecToss = rng.binomial(n, p, size=size)\n",
    "SecToss"
   ]
  },
  {
   "cell_type": "markdown",
   "metadata": {},
   "source": [
    "What we have produced in the code above is the result of 100 tosses of a coin simulated 1000 times. Each individual value in this array is the amount of times a coin was tossed and the 'heads' result was returned.\n",
    "\n",
    "This has been returned to us in an array format, with data type of int64. \n",
    "\n",
    "The next point of consideration is to be able produce an image that will display these results. In order for this to be completed, we need to introduce new modules from the library, MatPlotLib. As this is a very large package, we need to be more targeted in the modules to be introduced.\n",
    "\n",
    "Having reviewed the official [MatPlotLib](https://matplotlib.org/) documentation, we are going to introduce the pyplot module."
   ]
  },
  {
   "cell_type": "code",
   "execution_count": 20,
   "metadata": {},
   "outputs": [],
   "source": [
    "import matplotlib.pyplot as plt"
   ]
  },
  {
   "cell_type": "code",
   "execution_count": 21,
   "metadata": {},
   "outputs": [
    {
     "data": {
      "image/png": "[encoded data removed]",
      "text/plain": [
       "<Figure size 432x288 with 1 Axes>"
      ]
     },
     "metadata": {
      "needs_background": "light"
     },
     "output_type": "display_data"
    }
   ],
   "source": [
    "count, bins, ignore = plt.hist(SecToss, 70, density=True, histtype='bar', label='Tossing a coin 100 times')\n",
    "plt.xlabel('Heads')\n",
    "plt.ylabel('Probability')\n",
    "plt.legend()\n",
    "plt.show()"
   ]
  },
  {
   "cell_type": "markdown",
   "metadata": {},
   "source": [
    "As we can see from the distribution from the table above, we have successfully replicated the distribution as predicted in the exercise outlay.\n",
    "In the center of the display, is the likelihood of 50 heads results being returned from 100 tosses. As we move left of center, towards the likelihood of less than 50 outcomes being recorded, the probabilty lessons and tapers out towards 1 head being returned.\n",
    "As we move of the center, we are seeing that the chances of returning more than 50 results of Heads also tapers out as we approach 100.  "
   ]
  },
  {
   "cell_type": "markdown",
   "metadata": {},
   "source": [
    "#### References for Task 3\n",
    "\n",
    "SciKit - An introduciton to Machine Learning with Scikit-learn - Retrieved on 30th November 2020\n",
    "https://scikit-learn.org/stable/tutorial/basic/tutorial.html\n",
    "\n",
    "Numpy - Numpy.equal - Retrieved on 30th November 2020\n",
    "https://numpy.org/doc/stable/reference/generated/numpy.equal.html\n",
    "\n",
    "Numpy - Numpy Binomial - Retrieved on 30th November 2020\n",
    "https://numpy.org/doc/stable/reference/random/generated/numpy.random.Generator.binomial.html#numpy.random.Generator.binomial\n",
    "\n",
    "Statology - How to make a Bell Curve in Python - Retrieved on 6th December 2020\n",
    "https://www.statology.org/bell-curve-python/\n",
    "\n",
    "Python & R Tips - Simulating Coin Toss Experiment in Python with NumPy - Retrieved on 30th November 2020\n",
    "https://cmdlinetips.com/2018/12/simulating-coin-toss-experiment-with-binomial-random-numbers-using-numpy/\n",
    "\n",
    "MatPlotib - PyPlot Tutorial - Retrieved on 6th December 2020\n",
    "https://matplotlib.org/tutorials/introductory/pyplot.html\n",
    "\n",
    "MatPlotib - Histogram Overview - Retrieved on 6th December 2020\n",
    "https://matplotlib.org/3.1.1/api/_as_gen/matplotlib.pyplot.hist.html\n",
    "\n",
    "SciPy - scipy.stats.binom - Retrieved on 12th December 2020\n",
    "https://docs.scipy.org/doc/scipy/reference/generated/scipy.stats.binom.html#scipy.stats.binom\n",
    "\n",
    "SciPy - scipy.stats.norm - Retrieved on 12th December 2020\n",
    "https://docs.scipy.org/doc/scipy/reference/generated/scipy.stats.norm.html\n",
    "\n",
    "___"
   ]
  },
  {
   "cell_type": "markdown",
   "metadata": {},
   "source": [
    "#### Task 4\n",
    "\n",
    "Simpson’s paradox is a well-known statistical paradox where a trend evident in a number of groups reverses when the groups are combined into one big data set. Use numpy to create four data sets, each with an x array and a corresponding y array, to demonstrate Simpson’s paradox. You might create your x arrays using numpy.linspace and create the y array for each\n",
    "x using notation like y = a * x + b where you choose the a and b for each x , y pair to demonstrate the paradox. \n",
    "\n",
    "___"
   ]
  },
  {
   "attachments": {
    "Kidney%20Stone%20Data.PNG": {
     "image/png": "[encoded data removed]"
    }
   },
   "cell_type": "markdown",
   "metadata": {},
   "source": [
    "##### Simpsons Paradox\n",
    "Simpson's Paradox seeks to highlight the relationship between variables, and how the relationship can reverse when we combine these variables in the data set. The paradox highlights that once we dig down into the data set, we set a reversal in what we initially have viewed. \n",
    "\n",
    "According to [TowardsDataScience](https://towardsdatascience.com/simpsons-paradox-how-to-prove-two-opposite-arguments-using-one-dataset-1c9c917f5ff9) Simpson's Paradox will occur when a trend that appears when a dataset is seperated into groups will reverse when we aggragate the data.\n",
    "\n",
    "Simpson's Paradaox, according to [Brittannica](https://www.britannica.com/topic/Simpsons-paradox) is an example of an association paradox. \n",
    "\n",
    "In an event that was highlighted via the [Simpsons Paradox Wikipedia](https://en.wikipedia.org/wiki/Simpson%27s_paradox), we have been presented with the following table.\n",
    "\n",
    "\n",
    "![Kidney%20Stone%20Data.PNG](attachment:Kidney%20Stone%20Data.PNG)\n",
    "\n",
    "This table which has been extracted from the paper and published by [US National Library of Medicine National Institute of Health](https://www.ncbi.nlm.nih.gov/pmc/articles/PMC1339981/) has detailed an example of Simpson's Paradox. \n",
    "This will form the basis for how we create our own example of this paradox. "
   ]
  },
  {
   "cell_type": "code",
   "execution_count": 22,
   "metadata": {},
   "outputs": [],
   "source": [
    "# Create the first data set, with 10 samples being generated between the start and stop of the array"
   ]
  },
  {
   "cell_type": "code",
   "execution_count": 23,
   "metadata": {},
   "outputs": [
    {
     "data": {
      "text/plain": [
       "array([2.        , 2.31578947, 2.63157895, 2.94736842, 3.26315789,\n",
       "       3.57894737, 3.89473684, 4.21052632, 4.52631579, 4.84210526,\n",
       "       5.15789474, 5.47368421, 5.78947368, 6.10526316, 6.42105263,\n",
       "       6.73684211, 7.05263158, 7.36842105, 7.68421053, 8.        ])"
      ]
     },
     "execution_count": 23,
     "metadata": {},
     "output_type": "execute_result"
    }
   ],
   "source": [
    "Arr1x = np.linspace(2.0, 8.0, num=20)\n",
    "Arr1x"
   ]
  },
  {
   "cell_type": "code",
   "execution_count": 24,
   "metadata": {},
   "outputs": [
    {
     "data": {
      "text/plain": [
       "array([ 8.        ,  8.63157895,  9.26315789,  9.89473684, 10.52631579,\n",
       "       11.15789474, 11.78947368, 12.42105263, 13.05263158, 13.68421053,\n",
       "       14.31578947, 14.94736842, 15.57894737, 16.21052632, 16.84210526,\n",
       "       17.47368421, 18.10526316, 18.73684211, 19.36842105, 20.        ])"
      ]
     },
     "execution_count": 24,
     "metadata": {},
     "output_type": "execute_result"
    }
   ],
   "source": [
    "Arr1y = 2 * Arr1x + 4.0\n",
    "Arr1y"
   ]
  },
  {
   "cell_type": "code",
   "execution_count": 25,
   "metadata": {},
   "outputs": [],
   "source": [
    "# We now have our x and y components, combining them to form our first data set."
   ]
  },
  {
   "cell_type": "code",
   "execution_count": 26,
   "metadata": {},
   "outputs": [
    {
     "data": {
      "text/plain": [
       "array([10.        , 10.94736842, 11.89473684, 12.84210526, 13.78947368,\n",
       "       14.73684211, 15.68421053, 16.63157895, 17.57894737, 18.52631579,\n",
       "       19.47368421, 20.42105263, 21.36842105, 22.31578947, 23.26315789,\n",
       "       24.21052632, 25.15789474, 26.10526316, 27.05263158, 28.        ])"
      ]
     },
     "execution_count": 26,
     "metadata": {},
     "output_type": "execute_result"
    }
   ],
   "source": [
    "Arr1xy = Arr1x + Arr1y\n",
    "Arr1xy"
   ]
  },
  {
   "cell_type": "markdown",
   "metadata": {},
   "source": [
    "____"
   ]
  },
  {
   "cell_type": "code",
   "execution_count": 27,
   "metadata": {},
   "outputs": [],
   "source": [
    "# Create a second data set, holding in position the number of numbers to be generated, so that the arrays can be combined."
   ]
  },
  {
   "cell_type": "code",
   "execution_count": 28,
   "metadata": {},
   "outputs": [
    {
     "data": {
      "text/plain": [
       "array([10.        , 10.31578947, 10.63157895, 10.94736842, 11.26315789,\n",
       "       11.57894737, 11.89473684, 12.21052632, 12.52631579, 12.84210526,\n",
       "       13.15789474, 13.47368421, 13.78947368, 14.10526316, 14.42105263,\n",
       "       14.73684211, 15.05263158, 15.36842105, 15.68421053, 16.        ])"
      ]
     },
     "execution_count": 28,
     "metadata": {},
     "output_type": "execute_result"
    }
   ],
   "source": [
    "Arr2x = np.linspace(10.0, 16.0, 20)\n",
    "Arr2x"
   ]
  },
  {
   "cell_type": "code",
   "execution_count": 29,
   "metadata": {},
   "outputs": [
    {
     "data": {
      "text/plain": [
       "array([104.        , 107.15789474, 110.31578947, 113.47368421,\n",
       "       116.63157895, 119.78947368, 122.94736842, 126.10526316,\n",
       "       129.26315789, 132.42105263, 135.57894737, 138.73684211,\n",
       "       141.89473684, 145.05263158, 148.21052632, 151.36842105,\n",
       "       154.52631579, 157.68421053, 160.84210526, 164.        ])"
      ]
     },
     "execution_count": 29,
     "metadata": {},
     "output_type": "execute_result"
    }
   ],
   "source": [
    "Arr2y = 10.0* Arr2x + 4.0\n",
    "Arr2y"
   ]
  },
  {
   "cell_type": "code",
   "execution_count": 30,
   "metadata": {},
   "outputs": [
    {
     "data": {
      "text/plain": [
       "array([114.        , 117.47368421, 120.94736842, 124.42105263,\n",
       "       127.89473684, 131.36842105, 134.84210526, 138.31578947,\n",
       "       141.78947368, 145.26315789, 148.73684211, 152.21052632,\n",
       "       155.68421053, 159.15789474, 162.63157895, 166.10526316,\n",
       "       169.57894737, 173.05263158, 176.52631579, 180.        ])"
      ]
     },
     "execution_count": 30,
     "metadata": {},
     "output_type": "execute_result"
    }
   ],
   "source": [
    "Arr2xy = Arr2x + Arr2y\n",
    "Arr2xy"
   ]
  },
  {
   "cell_type": "markdown",
   "metadata": {},
   "source": [
    "___"
   ]
  },
  {
   "cell_type": "code",
   "execution_count": 31,
   "metadata": {},
   "outputs": [],
   "source": [
    "# Take the first 2 datasets and combine them so that we have re-enacted our subtotal as detailed in the kidney stones table."
   ]
  },
  {
   "cell_type": "code",
   "execution_count": 32,
   "metadata": {},
   "outputs": [
    {
     "data": {
      "text/plain": [
       "array([124.        , 128.42105263, 132.84210526, 137.26315789,\n",
       "       141.68421053, 146.10526316, 150.52631579, 154.94736842,\n",
       "       159.36842105, 163.78947368, 168.21052632, 172.63157895,\n",
       "       177.05263158, 181.47368421, 185.89473684, 190.31578947,\n",
       "       194.73684211, 199.15789474, 203.57894737, 208.        ])"
      ]
     },
     "execution_count": 32,
     "metadata": {},
     "output_type": "execute_result"
    }
   ],
   "source": [
    "Combo12 = Arr1xy + Arr2xy\n",
    "Combo12"
   ]
  },
  {
   "cell_type": "markdown",
   "metadata": {},
   "source": [
    "___"
   ]
  },
  {
   "cell_type": "code",
   "execution_count": 33,
   "metadata": {},
   "outputs": [],
   "source": [
    "# Create a third data set with the number of numbers far wider and larger, to create a contrast to the first two dataesets"
   ]
  },
  {
   "cell_type": "code",
   "execution_count": 34,
   "metadata": {},
   "outputs": [
    {
     "data": {
      "text/plain": [
       "array([20.        , 20.40816327, 20.81632653, 21.2244898 , 21.63265306,\n",
       "       22.04081633, 22.44897959, 22.85714286, 23.26530612, 23.67346939,\n",
       "       24.08163265, 24.48979592, 24.89795918, 25.30612245, 25.71428571,\n",
       "       26.12244898, 26.53061224, 26.93877551, 27.34693878, 27.75510204,\n",
       "       28.16326531, 28.57142857, 28.97959184, 29.3877551 , 29.79591837,\n",
       "       30.20408163, 30.6122449 , 31.02040816, 31.42857143, 31.83673469,\n",
       "       32.24489796, 32.65306122, 33.06122449, 33.46938776, 33.87755102,\n",
       "       34.28571429, 34.69387755, 35.10204082, 35.51020408, 35.91836735,\n",
       "       36.32653061, 36.73469388, 37.14285714, 37.55102041, 37.95918367,\n",
       "       38.36734694, 38.7755102 , 39.18367347, 39.59183673, 40.        ])"
      ]
     },
     "execution_count": 34,
     "metadata": {},
     "output_type": "execute_result"
    }
   ],
   "source": [
    "Lis1x = np.linspace(20.0, 40.0, 50)\n",
    "Lis1x"
   ]
  },
  {
   "cell_type": "code",
   "execution_count": 35,
   "metadata": {},
   "outputs": [
    {
     "data": {
      "text/plain": [
       "array([ 66.        ,  67.2244898 ,  68.44897959,  69.67346939,\n",
       "        70.89795918,  72.12244898,  73.34693878,  74.57142857,\n",
       "        75.79591837,  77.02040816,  78.24489796,  79.46938776,\n",
       "        80.69387755,  81.91836735,  83.14285714,  84.36734694,\n",
       "        85.59183673,  86.81632653,  88.04081633,  89.26530612,\n",
       "        90.48979592,  91.71428571,  92.93877551,  94.16326531,\n",
       "        95.3877551 ,  96.6122449 ,  97.83673469,  99.06122449,\n",
       "       100.28571429, 101.51020408, 102.73469388, 103.95918367,\n",
       "       105.18367347, 106.40816327, 107.63265306, 108.85714286,\n",
       "       110.08163265, 111.30612245, 112.53061224, 113.75510204,\n",
       "       114.97959184, 116.20408163, 117.42857143, 118.65306122,\n",
       "       119.87755102, 121.10204082, 122.32653061, 123.55102041,\n",
       "       124.7755102 , 126.        ])"
      ]
     },
     "execution_count": 35,
     "metadata": {},
     "output_type": "execute_result"
    }
   ],
   "source": [
    "Lis1y = 3.0 * Lis1x + 6.0\n",
    "Lis1y"
   ]
  },
  {
   "cell_type": "code",
   "execution_count": 36,
   "metadata": {},
   "outputs": [
    {
     "data": {
      "text/plain": [
       "array([ 86.        ,  87.63265306,  89.26530612,  90.89795918,\n",
       "        92.53061224,  94.16326531,  95.79591837,  97.42857143,\n",
       "        99.06122449, 100.69387755, 102.32653061, 103.95918367,\n",
       "       105.59183673, 107.2244898 , 108.85714286, 110.48979592,\n",
       "       112.12244898, 113.75510204, 115.3877551 , 117.02040816,\n",
       "       118.65306122, 120.28571429, 121.91836735, 123.55102041,\n",
       "       125.18367347, 126.81632653, 128.44897959, 130.08163265,\n",
       "       131.71428571, 133.34693878, 134.97959184, 136.6122449 ,\n",
       "       138.24489796, 139.87755102, 141.51020408, 143.14285714,\n",
       "       144.7755102 , 146.40816327, 148.04081633, 149.67346939,\n",
       "       151.30612245, 152.93877551, 154.57142857, 156.20408163,\n",
       "       157.83673469, 159.46938776, 161.10204082, 162.73469388,\n",
       "       164.36734694, 166.        ])"
      ]
     },
     "execution_count": 36,
     "metadata": {},
     "output_type": "execute_result"
    }
   ],
   "source": [
    "Lis1xy = Lis1x + Lis1y\n",
    "Lis1xy"
   ]
  },
  {
   "cell_type": "markdown",
   "metadata": {},
   "source": [
    "___"
   ]
  },
  {
   "cell_type": "code",
   "execution_count": 37,
   "metadata": {},
   "outputs": [],
   "source": [
    "# Create a fourth and final data set that will compliment the third"
   ]
  },
  {
   "cell_type": "code",
   "execution_count": 38,
   "metadata": {},
   "outputs": [
    {
     "data": {
      "text/plain": [
       "array([31.        , 31.28571429, 31.57142857, 31.85714286, 32.14285714,\n",
       "       32.42857143, 32.71428571, 33.        , 33.28571429, 33.57142857,\n",
       "       33.85714286, 34.14285714, 34.42857143, 34.71428571, 35.        ,\n",
       "       35.28571429, 35.57142857, 35.85714286, 36.14285714, 36.42857143,\n",
       "       36.71428571, 37.        , 37.28571429, 37.57142857, 37.85714286,\n",
       "       38.14285714, 38.42857143, 38.71428571, 39.        , 39.28571429,\n",
       "       39.57142857, 39.85714286, 40.14285714, 40.42857143, 40.71428571,\n",
       "       41.        , 41.28571429, 41.57142857, 41.85714286, 42.14285714,\n",
       "       42.42857143, 42.71428571, 43.        , 43.28571429, 43.57142857,\n",
       "       43.85714286, 44.14285714, 44.42857143, 44.71428571, 45.        ])"
      ]
     },
     "execution_count": 38,
     "metadata": {},
     "output_type": "execute_result"
    }
   ],
   "source": [
    "Lis2x = np.linspace(31.0, 45.0, 50)\n",
    "Lis2x"
   ]
  },
  {
   "cell_type": "code",
   "execution_count": 39,
   "metadata": {},
   "outputs": [
    {
     "data": {
      "text/plain": [
       "array([313.        , 315.85714286, 318.71428571, 321.57142857,\n",
       "       324.42857143, 327.28571429, 330.14285714, 333.        ,\n",
       "       335.85714286, 338.71428571, 341.57142857, 344.42857143,\n",
       "       347.28571429, 350.14285714, 353.        , 355.85714286,\n",
       "       358.71428571, 361.57142857, 364.42857143, 367.28571429,\n",
       "       370.14285714, 373.        , 375.85714286, 378.71428571,\n",
       "       381.57142857, 384.42857143, 387.28571429, 390.14285714,\n",
       "       393.        , 395.85714286, 398.71428571, 401.57142857,\n",
       "       404.42857143, 407.28571429, 410.14285714, 413.        ,\n",
       "       415.85714286, 418.71428571, 421.57142857, 424.42857143,\n",
       "       427.28571429, 430.14285714, 433.        , 435.85714286,\n",
       "       438.71428571, 441.57142857, 444.42857143, 447.28571429,\n",
       "       450.14285714, 453.        ])"
      ]
     },
     "execution_count": 39,
     "metadata": {},
     "output_type": "execute_result"
    }
   ],
   "source": [
    "Lis2y = 10 * Lis2x + 3.0\n",
    "Lis2y"
   ]
  },
  {
   "cell_type": "code",
   "execution_count": 40,
   "metadata": {},
   "outputs": [
    {
     "data": {
      "text/plain": [
       "array([344.        , 347.14285714, 350.28571429, 353.42857143,\n",
       "       356.57142857, 359.71428571, 362.85714286, 366.        ,\n",
       "       369.14285714, 372.28571429, 375.42857143, 378.57142857,\n",
       "       381.71428571, 384.85714286, 388.        , 391.14285714,\n",
       "       394.28571429, 397.42857143, 400.57142857, 403.71428571,\n",
       "       406.85714286, 410.        , 413.14285714, 416.28571429,\n",
       "       419.42857143, 422.57142857, 425.71428571, 428.85714286,\n",
       "       432.        , 435.14285714, 438.28571429, 441.42857143,\n",
       "       444.57142857, 447.71428571, 450.85714286, 454.        ,\n",
       "       457.14285714, 460.28571429, 463.42857143, 466.57142857,\n",
       "       469.71428571, 472.85714286, 476.        , 479.14285714,\n",
       "       482.28571429, 485.42857143, 488.57142857, 491.71428571,\n",
       "       494.85714286, 498.        ])"
      ]
     },
     "execution_count": 40,
     "metadata": {},
     "output_type": "execute_result"
    }
   ],
   "source": [
    "Lis2xy = Lis2x + Lis2y\n",
    "Lis2xy"
   ]
  },
  {
   "cell_type": "markdown",
   "metadata": {},
   "source": [
    "___"
   ]
  },
  {
   "cell_type": "code",
   "execution_count": 41,
   "metadata": {},
   "outputs": [],
   "source": [
    "# We now have our second subtotal detailed as per the Kidney Stone analysis."
   ]
  },
  {
   "cell_type": "code",
   "execution_count": 42,
   "metadata": {},
   "outputs": [
    {
     "data": {
      "text/plain": [
       "array([430.        , 434.7755102 , 439.55102041, 444.32653061,\n",
       "       449.10204082, 453.87755102, 458.65306122, 463.42857143,\n",
       "       468.20408163, 472.97959184, 477.75510204, 482.53061224,\n",
       "       487.30612245, 492.08163265, 496.85714286, 501.63265306,\n",
       "       506.40816327, 511.18367347, 515.95918367, 520.73469388,\n",
       "       525.51020408, 530.28571429, 535.06122449, 539.83673469,\n",
       "       544.6122449 , 549.3877551 , 554.16326531, 558.93877551,\n",
       "       563.71428571, 568.48979592, 573.26530612, 578.04081633,\n",
       "       582.81632653, 587.59183673, 592.36734694, 597.14285714,\n",
       "       601.91836735, 606.69387755, 611.46938776, 616.24489796,\n",
       "       621.02040816, 625.79591837, 630.57142857, 635.34693878,\n",
       "       640.12244898, 644.89795918, 649.67346939, 654.44897959,\n",
       "       659.2244898 , 664.        ])"
      ]
     },
     "execution_count": 42,
     "metadata": {},
     "output_type": "execute_result"
    }
   ],
   "source": [
    "Combo34 = Lis1xy + Lis2xy\n",
    "Combo34"
   ]
  },
  {
   "cell_type": "markdown",
   "metadata": {},
   "source": [
    "___"
   ]
  },
  {
   "cell_type": "markdown",
   "metadata": {},
   "source": [
    "##### Creating a line of best fit"
   ]
  },
  {
   "cell_type": "code",
   "execution_count": 43,
   "metadata": {},
   "outputs": [
    {
     "name": "stdout",
     "output_type": "stream",
     "text": [
      "1.9250000000000005\n"
     ]
    }
   ],
   "source": [
    "m, b = np.polyfit(Lis1xy, Lis2xy, 1)\n",
    "print(m)"
   ]
  },
  {
   "cell_type": "code",
   "execution_count": 44,
   "metadata": {},
   "outputs": [
    {
     "name": "stdout",
     "output_type": "stream",
     "text": [
      "178.44999999999996\n"
     ]
    }
   ],
   "source": [
    "print(b)"
   ]
  },
  {
   "cell_type": "code",
   "execution_count": 45,
   "metadata": {},
   "outputs": [
    {
     "data": {
      "text/plain": [
       "[<matplotlib.lines.Line2D at 0x1cc1bc5d640>]"
      ]
     },
     "execution_count": 45,
     "metadata": {},
     "output_type": "execute_result"
    },
    {
     "data": {
      "image/png": "[encoded data removed]",
      "text/plain": [
       "<Figure size 432x288 with 1 Axes>"
      ]
     },
     "metadata": {
      "needs_background": "light"
     },
     "output_type": "display_data"
    }
   ],
   "source": [
    "plt.plot(Lis1xy, Lis2xy, 'o')\n",
    "plt.plot(Lis1xy, m*Lis1xy + b)"
   ]
  },
  {
   "cell_type": "markdown",
   "metadata": {},
   "source": [
    "##### Creating our Graphs"
   ]
  },
  {
   "cell_type": "code",
   "execution_count": 46,
   "metadata": {},
   "outputs": [
    {
     "data": {
      "image/png": "[encoded data removed]",
      "text/plain": [
       "<Figure size 432x288 with 1 Axes>"
      ]
     },
     "metadata": {
      "needs_background": "light"
     },
     "output_type": "display_data"
    }
   ],
   "source": [
    "plt.plot(Combo34)\n",
    "plt.plot(Combo12)\n",
    "plt.show;"
   ]
  },
  {
   "cell_type": "markdown",
   "metadata": {},
   "source": [
    "We can see from the plot in the above that there are two seperate sets of data that appear to have no relationship, no overlapping criteria."
   ]
  },
  {
   "cell_type": "code",
   "execution_count": 47,
   "metadata": {},
   "outputs": [
    {
     "data": {
      "image/png": "[encoded data removed]",
      "text/plain": [
       "<Figure size 432x288 with 1 Axes>"
      ]
     },
     "metadata": {
      "needs_background": "light"
     },
     "output_type": "display_data"
    }
   ],
   "source": [
    "plt.plot(Arr1xy)\n",
    "plt.plot(Arr2xy)\n",
    "plt.plot(Lis1xy)\n",
    "plt.plot(Lis2xy)\n",
    "plt.show();"
   ]
  },
  {
   "cell_type": "markdown",
   "metadata": {},
   "source": [
    "\n",
    "But when we review at a deeper level, we can see that there are in fact considerable differences in where the information is truly displayed across. "
   ]
  },
  {
   "cell_type": "markdown",
   "metadata": {},
   "source": [
    "___"
   ]
  },
  {
   "cell_type": "markdown",
   "metadata": {},
   "source": [
    "#### References for Task 4\n",
    "\n",
    "Numpy Linspace - Retrieved on 20th December 2020\n",
    "https://numpy.org/doc/stable/reference/generated/numpy.linspace.html\n",
    "\n",
    "KDNuggets - Retrieved on 10th December 2020\n",
    "https://www.kdnuggets.com/2020/09/simpsons-paradox.html\n",
    "\n",
    "Towards Science - Retrieved on 10th December 2020\n",
    "https://towardsdatascience.com/solving-simpsons-paradox-e85433c68d03\n",
    "\n",
    "MinutePhysics - Retrieved on 13th December 2020\n",
    "https://www.youtube.com/watch?v=ebEkn-BiW5k\n",
    "\n",
    "Britannica - Retrieved on 10th December 2020\n",
    "https://www.britannica.com/topic/Simpsons-paradox\n",
    "\n",
    "Simpsosn Paradox - Retrieved on 10th December 2020\n",
    "https://en.wikipedia.org/wiki/Simpson%27s_paradox#cite_note-16\n",
    "\n",
    "Towards Science - Retrieved on 12th December 2020\n",
    "https://towardsdatascience.com/simpsons-paradox-how-to-prove-two-opposite-arguments-using-one-dataset-1c9c917f5ff9\n",
    "\n",
    "US National library of medicine - Retrieved on 20th December 2020\n",
    "https://www.ncbi.nlm.nih.gov/pmc/articles/PMC1339981/\n",
    "\n",
    "Towards Science - What is Simpson’s Paradox? - Retrieved on 20th December 2020\n",
    "https://towardsdatascience.com/what-is-simpsons-paradox-4a53cd4e9ee2\n",
    "\n",
    "Medium.com - Markdown File - Retrieved on 19th December 2020\n",
    "https://medium.com/markdown-monster-blog/getting-images-into-markdown-documents-and-weblog-posts-with-markdown-monster-9ec6f353d8ec\n",
    "\n",
    "Kite.com - Line of best fit - retrieved on 20th of December\n",
    "https://www.kite.com/python/answers/how-to-plot-a-line-of-best-fit-in-python\n",
    "\n",
    "___"
   ]
  },
  {
   "cell_type": "markdown",
   "metadata": {},
   "source": [
    "### Bibliography"
   ]
  },
  {
   "cell_type": "markdown",
   "metadata": {},
   "source": [
    "LearnPython - Function\n",
    "https://www.learnpython.org/en/Functions\n",
    "\n",
    "\n",
    "Able.bio\n",
    "https://able.bio/rhett/check-if-a-key-exists-in-a-python-dictionary--73iajoz#:~:text=To%20simply%20check%20if%20a,')%20%23%20Dogs%20found!&text=A%20dictionary%20can%20be%20a,counting%20the%20occurrence%20of%20items.\n",
    "\n",
    "Stack Overflow\n",
    "https://stackoverflow.com/questions/45069108/use-list-as-function-definition-parameters-in-python\n",
    "\n",
    "Old Refernece guide for Integers: \n",
    "https://numpy.org/doc/stable/reference/random/generated/numpy.random.randint.html#numpy.random.randint\n",
    "\n",
    "  \n",
    "Python - The Python Standard Library, retrieved on October 12th 2020 \n",
    "https://docs.python.org/3/library/\n",
    "\n",
    "RealPython - How to Iterate Through a Dictionary in Python, retrieved on October 12th 2020\n",
    "https://realpython.com/iterate-through-dictionary-python/\n",
    "\n",
    "LearnPython - Function, retrieved on October 14th 2020\n",
    "https://www.learnpython.org/en/Functions\n",
    "\n",
    "Able.bio, retrieved on October 14th 2020\n",
    "https://able.bio/rhett/check-if-a-key-exists-in-a-python-dictionary--73iajoz#\n",
    "\n",
    "W3Schools - For Loops Explanation, retrieved on October 14th 2020\n",
    "https://www.w3schools.com/python/python_for_loops.asp  \n",
    "\n",
    "Numpy - Generate a permutation - retrieved on 14th November 2020\n",
    "https://numpy.org/doc/stable/reference/random/generated/numpy.random.Generator.permutation.html?highlight=numpy%20random%20permutation#numpy.random.Generator.permutation\n",
    "\n",
    "Stack Overflow - Function Parameters - retrieved on 14th November 2020\n",
    "https://stackoverflow.com/questions/45069108/use-list-as-function-definition-parameters-in-python\n",
    "\n",
    "Numpy - Old Refernece guide for Integers - retrieved on 14th November 2020\n",
    "https://numpy.org/doc/stable/reference/random/generated/numpy.random.randint.html#numpy.random.randint\n",
    "\n",
    "W3Schools - Append reference material - retrieved on 16th November 2020\n",
    "https://www.w3schools.com/python/python_arrays.asp\n",
    "\n",
    "Geeks for geeks - Append reference material - retrieved on 16th November 2020\n",
    "https://www.geeksforgeeks.org/append-extend-python/\n",
    "\n",
    "Numpy - Generator for integers - retrieved on 16th November 2020\n",
    "https://numpy.org/doc/stable/reference/random/generated/numpy.random.Generator.integers.html#numpy.random.Generator.integers\n",
    "\n",
    "SciPy Array - retrieved on 16th November 2020\n",
    "https://stackoverflow.com/questions/49881570/python-dictionaries-appending-arrays-to-a-dictionary-for-a-specific-key\n",
    "\n",
    "   \n",
    "SciKit - An introduciton to Machine Learning with Scikit-learn - Retrieved on 30th November 2020\n",
    "https://scikit-learn.org/stable/tutorial/basic/tutorial.html\n",
    "\n",
    "Numpy - Numpy.equal - Retrieved on 30th November 2020\n",
    "https://numpy.org/doc/stable/reference/generated/numpy.equal.html\n",
    "\n",
    "Numpy - Numpy Binomial - Retrieved on 30th November 2020\n",
    "https://numpy.org/doc/stable/reference/random/generated/numpy.random.Generator.binomial.html#numpy.random.Generator.binomial\n",
    "\n",
    "Statology - How to make a Bell Curve in Python - Retrieved on 6th December 2020\n",
    "https://www.statology.org/bell-curve-python/\n",
    "\n",
    "Python & R Tips - Simulating Coin Toss Experiment in Python with NumPy - Retrieved on 30th November 2020\n",
    "https://cmdlinetips.com/2018/12/simulating-coin-toss-experiment-with-binomial-random-numbers-using-numpy/\n",
    "\n",
    "MatPlotib - PyPlot Tutorial - Retrieved on 6th December 2020\n",
    "https://matplotlib.org/tutorials/introductory/pyplot.html\n",
    "\n",
    "MatPlotib - Histogram Overview - Retrieved on 6th December 2020\n",
    "https://matplotlib.org/3.1.1/api/_as_gen/matplotlib.pyplot.hist.html\n",
    "\n",
    "SciPy - scipy.stats.binom - Retrieved on 12th December 2020\n",
    "https://docs.scipy.org/doc/scipy/reference/generated/scipy.stats.binom.html#scipy.stats.binom\n",
    "\n",
    "SciPy - scipy.stats.norm - Retrieved on 12th December 2020\n",
    "https://docs.scipy.org/doc/scipy/reference/generated/scipy.stats.norm.html\n",
    "\n",
    "  \n",
    "Numpy Linspace - Retrieved on 20th December 2020\n",
    "https://numpy.org/doc/stable/reference/generated/numpy.linspace.html\n",
    "\n",
    "KDNuggets - Retrieved on 10th December 2020\n",
    "https://www.kdnuggets.com/2020/09/simpsons-paradox.html\n",
    "\n",
    "Towards Science - Retrieved on 10th December 2020\n",
    "https://towardsdatascience.com/solving-simpsons-paradox-e85433c68d03\n",
    "\n",
    "MinutePhysics - Retrieved on 13th December 2020\n",
    "https://www.youtube.com/watch?v=ebEkn-BiW5k\n",
    "\n",
    "Britannica - Retrieved on 10th December 2020\n",
    "https://www.britannica.com/topic/Simpsons-paradox\n",
    "\n",
    "Simpsosn Paradox - Retrieved on 10th December 2020\n",
    "https://en.wikipedia.org/wiki/Simpson%27s_paradox#cite_note-16\n",
    "\n",
    "Towards Science - Retrieved on 12th December 2020\n",
    "https://towardsdatascience.com/simpsons-paradox-how-to-prove-two-opposite-arguments-using-one-dataset-1c9c917f5ff9\n",
    "\n",
    "US National library of medicine - Retrieved on 20th December 2020\n",
    "https://www.ncbi.nlm.nih.gov/pmc/articles/PMC1339981/\n",
    "\n",
    "Towards Science - What is Simpson’s Paradox? - Retrieved on 20th December 2020\n",
    "https://towardsdatascience.com/what-is-simpsons-paradox-4a53cd4e9ee2\n",
    "\n",
    "Medium.com - Markdown File - Retrieved on 19th December 2020\n",
    "https://medium.com/markdown-monster-blog/getting-images-into-markdown-documents-and-weblog-posts-with-markdown-monster-9ec6f353d8ec\n",
    "\n",
    "Kite.com - Line of best fit - retrieved on 20th of December\n",
    "https://www.kite.com/python/answers/how-to-plot-a-line-of-best-fit-in-python\n",
    "\n",
    "___"
   ]
  }
 ],
 "metadata": {
  "kernelspec": {
   "display_name": "Python 3",
   "language": "python",
   "name": "python3"
  },
  "language_info": {
   "codemirror_mode": {
    "name": "ipython",
    "version": 3
   },
   "file_extension": ".py",
   "mimetype": "text/x-python",
   "name": "python",
   "nbconvert_exporter": "python",
   "pygments_lexer": "ipython3",
   "version": "3.8.5"
  }
 },
 "nbformat": 4,
 "nbformat_minor": 4
}
