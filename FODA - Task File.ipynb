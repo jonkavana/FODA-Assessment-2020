{
 "cells": [
  {
   "cell_type": "markdown",
   "metadata": {},
   "source": [
    "### Testing in the Jupyter Notebook view"
   ]
  },
  {
   "cell_type": "code",
   "execution_count": 1,
   "metadata": {},
   "outputs": [
    {
     "name": "stdout",
     "output_type": "stream",
     "text": [
      "Hello, World\n"
     ]
    }
   ],
   "source": [
    "print(\"Hello, World\")"
   ]
  },
  {
   "cell_type": "code",
   "execution_count": 4,
   "metadata": {},
   "outputs": [],
   "source": [
    "def func_arg(username, greeting):\n",
    "    print(\"Hello, %s, i wish you a happy %s\"%(username, greeting))"
   ]
  },
  {
   "cell_type": "code",
   "execution_count": 5,
   "metadata": {},
   "outputs": [
    {
     "name": "stdout",
     "output_type": "stream",
     "text": [
      "Hello, john, i wish you a happy birthday\n"
     ]
    }
   ],
   "source": [
    "func_arg(\"john\", \"birthday\")"
   ]
  },
  {
   "cell_type": "code",
   "execution_count": 6,
   "metadata": {},
   "outputs": [],
   "source": [
    "def counts(*input):\n",
    "    print(input)"
   ]
  },
  {
   "cell_type": "code",
   "execution_count": 7,
   "metadata": {},
   "outputs": [
    {
     "name": "stdout",
     "output_type": "stream",
     "text": [
      "('dave',)\n"
     ]
    }
   ],
   "source": [
    "counts(\"dave\")"
   ]
  },
  {
   "cell_type": "code",
   "execution_count": 8,
   "metadata": {},
   "outputs": [],
   "source": [
    "def counts(list):\n",
    "    print(list)"
   ]
  },
  {
   "cell_type": "code",
   "execution_count": 11,
   "metadata": {},
   "outputs": [],
   "source": [
    "mylist = [\"dave\", \"ron\",  \"john\", \"ste\"] "
   ]
  },
  {
   "cell_type": "code",
   "execution_count": 12,
   "metadata": {},
   "outputs": [
    {
     "name": "stdout",
     "output_type": "stream",
     "text": [
      "['dave', 'ron', 'john', 'ste']\n"
     ]
    }
   ],
   "source": [
    "counts(mylist)"
   ]
  },
  {
   "cell_type": "code",
   "execution_count": 13,
   "metadata": {},
   "outputs": [],
   "source": [
    "mydictionary = {'dave':32, 'john':45} "
   ]
  },
  {
   "cell_type": "code",
   "execution_count": 19,
   "metadata": {},
   "outputs": [],
   "source": [
    "def counts(list):\n",
    "    return{'dave':32 , 'john':45 }"
   ]
  },
  {
   "cell_type": "code",
   "execution_count": 26,
   "metadata": {},
   "outputs": [],
   "source": [
    "def counts(list):\n",
    "    # this is where the important part is\n",
    "    dictionary = {}\n",
    "    \n",
    "    for letter in list:\n",
    "        if letter in dictionary:\n",
    "            dictionary[letter] += 1\n",
    "        else:\n",
    "            dictionary[letter] = 1\n",
    "            \n",
    "    return dictionary"
   ]
  },
  {
   "cell_type": "markdown",
   "metadata": {},
   "source": [
    "we need to set up the logic\n",
    "\n",
    "need a disctionary whose values always start at 0\n",
    "\n",
    "loop until no more items in the list\n",
    "    take next item in list\n",
    "    check if item is alreadu in dictionary\n",
    "        yes?\n",
    "            add one to vlaue associated with key\n",
    "        no?\n",
    "            put item in dictionary as key\n",
    "            add 1 to value of that key\n",
    "     put item in dictionary as key\n",
    "     add 1 to value of that key\n",
    "end loop"
   ]
  },
  {
   "cell_type": "code",
   "execution_count": 27,
   "metadata": {},
   "outputs": [
    {
     "data": {
      "text/plain": [
       "{'A': 3, 'B': 1, 'C': 1}"
      ]
     },
     "execution_count": 27,
     "metadata": {},
     "output_type": "execute_result"
    }
   ],
   "source": [
    "counts(['A', 'A', 'B', 'C', 'A'])"
   ]
  },
  {
   "cell_type": "code",
   "execution_count": null,
   "metadata": {},
   "outputs": [],
   "source": []
  },
  {
   "cell_type": "markdown",
   "metadata": {},
   "source": [
    "### Bibliography"
   ]
  },
  {
   "cell_type": "markdown",
   "metadata": {},
   "source": [
    "LearnPython - Function\n",
    "https://www.learnpython.org/en/Functions\n",
    "\n",
    "\n",
    "Able.bio\n",
    "https://able.bio/rhett/check-if-a-key-exists-in-a-python-dictionary--73iajoz#:~:text=To%20simply%20check%20if%20a,')%20%23%20Dogs%20found!&text=A%20dictionary%20can%20be%20a,counting%20the%20occurrence%20of%20items.\n",
    "\n",
    "Stack Overflow\n",
    "https://stackoverflow.com/questions/45069108/use-list-as-function-definition-parameters-in-python\n"
   ]
  }
 ],
 "metadata": {
  "kernelspec": {
   "display_name": "Python 3",
   "language": "python",
   "name": "python3"
  },
  "language_info": {
   "codemirror_mode": {
    "name": "ipython",
    "version": 3
   },
   "file_extension": ".py",
   "mimetype": "text/x-python",
   "name": "python",
   "nbconvert_exporter": "python",
   "pygments_lexer": "ipython3",
   "version": "3.8.5"
  }
 },
 "nbformat": 4,
 "nbformat_minor": 4
}
