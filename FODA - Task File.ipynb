{
 "cells": [
  {
   "cell_type": "markdown",
   "metadata": {},
   "source": [
    "### Testing in the Jupyter Notebook view"
   ]
  },
  {
   "cell_type": "markdown",
   "metadata": {},
   "source": [
    "***"
   ]
  },
  {
   "cell_type": "markdown",
   "metadata": {},
   "source": [
    "#### Task 1\n",
    "\n",
    "We need to create a function that we call 'counts' that will take a list as an input and returns a dictionary as a result. \n",
    "In this disctionary, we need to be able to see the unique items that were input, and the number of times each unique item was counted. \n",
    "___"
   ]
  },
  {
   "cell_type": "markdown",
   "metadata": {},
   "source": [
    "Logical Rationale:\n",
    "\n",
    "\n",
    "- Need a disctionary whose values always start at 0\n",
    "- Create a list that will be looped through until the end.\n",
    "- loop until no more items in the list\n",
    "        - take next item in list\n",
    "        - check if item is already in dictionary\n",
    "            - yes?\n",
    "        - add one to value associated with key\n",
    "             - no?\n",
    "        - put item in dictionary as key\n",
    "            - add 1 to value of that key\n",
    "        - put item in dictionary as key\n",
    "        - add 1 to value of that key\n",
    "        - end loop"
   ]
  },
  {
   "cell_type": "code",
   "execution_count": 2,
   "metadata": {},
   "outputs": [],
   "source": [
    "def counts(list):\n",
    "    dictionary = {}\n",
    "    \n",
    "    for letter in list:\n",
    "        if letter in dictionary:\n",
    "            dictionary[letter] += 1\n",
    "        else:\n",
    "            dictionary[letter] = 1\n",
    "            \n",
    "    return dictionary"
   ]
  },
  {
   "cell_type": "code",
   "execution_count": 3,
   "metadata": {},
   "outputs": [
    {
     "data": {
      "text/plain": [
       "{'A': 4, 'B': 1, 'C': 1, 'X': 1, 'F': 1}"
      ]
     },
     "execution_count": 3,
     "metadata": {},
     "output_type": "execute_result"
    }
   ],
   "source": [
    "counts(['A', 'A', 'B', 'C', 'A', 'A', 'X', 'F'])"
   ]
  },
  {
   "cell_type": "code",
   "execution_count": null,
   "metadata": {},
   "outputs": [],
   "source": []
  },
  {
   "cell_type": "markdown",
   "metadata": {},
   "source": [
    "#### References for Task 1\n",
    "\n",
    "The sites that are listed below were all used in the creation of the algorithm above. I knew, from first read of the task itself, that there would be a need to loop. Given that the output of the code was to be in a dictionary format, i knew i would need to review and understand the key:value pairing that it utilises. \n",
    "Give that there was also a constraint on the exercise, that of not being able to depend on anything from the standard library, i knew that I would need to  be more comfortable in the official documentation, so that I could avoid anything that would be considered to be part of this constraint. \n",
    "\n",
    "Python - The Python Standard Library, retrieved on October 12th 2020 \n",
    "https://docs.python.org/3/library/\n",
    "\n",
    "RealPython - How to Iterate Through a Dictionary in Python, retrieved on October 12th 2020\n",
    "https://realpython.com/iterate-through-dictionary-python/\n",
    "\n",
    "LearnPython - Function, retrieved on October 14th 2020\n",
    "https://www.learnpython.org/en/Functions\n",
    "\n",
    "Able.bio, retrieved on October 14th 2020\n",
    "https://able.bio/rhett/check-if-a-key-exists-in-a-python-dictionary--73iajoz#\n",
    "\n",
    "W3Schools - For Loops Explanation, retrieved on October 14th 2020\n",
    "https://www.w3schools.com/python/python_for_loops.asp\n",
    "\n",
    "___"
   ]
  },
  {
   "cell_type": "markdown",
   "metadata": {},
   "source": [
    "#### Task 2\n",
    "\n",
    "We need to create a function, called 'dicerolls', that will simulate rolling dice.\n",
    "\n",
    "There are two parameters of consideration that need to be catered for. \n",
    "\n",
    "- Number of Dice: 'k'\n",
    "- Number of times that the dice are rolled: 'n'\n",
    "\n",
    "The aim of the function is to simulate the rolling of the dice, n times, and to keep track of the total of each face value.\n",
    "\n",
    "This should be stored in a dictionary, displaying the number of times each total face value happened.  \n",
    "___"
   ]
  },
  {
   "cell_type": "code",
   "execution_count": 4,
   "metadata": {},
   "outputs": [],
   "source": [
    "import numpy as np"
   ]
  },
  {
   "cell_type": "code",
   "execution_count": 8,
   "metadata": {},
   "outputs": [
    {
     "data": {
      "text/plain": [
       "Generator(PCG64) at 0x1C6AE190E50"
      ]
     },
     "execution_count": 8,
     "metadata": {},
     "output_type": "execute_result"
    }
   ],
   "source": [
    "# Instantiate the generator/programme and run it\n",
    "\n",
    "rng = np.random.default_rng()\n",
    "rng"
   ]
  },
  {
   "cell_type": "code",
   "execution_count": null,
   "metadata": {},
   "outputs": [],
   "source": [
    " def dicerolls(dice, rolls):\n",
    "    resultdict = {}\n",
    "    rollresults = rng.integers(1, 7, size=rolls)\n",
    "       \n",
    "    for number in rollresults:\n",
    "        if number in resultdict:\n",
    "            resultdict[number] += 1\n",
    "        else:\n",
    "            resultdict[number] = 1\n",
    "    return resultdict"
   ]
  },
  {
   "cell_type": "code",
   "execution_count": null,
   "metadata": {},
   "outputs": [],
   "source": [
    "# how to store an array inside an array \n",
    "\n",
    "def dicerolls(dice, rolls):\n",
    "    resultdict = {}\n",
    "    # print(rollresults)\n",
    "    \n",
    "    rollresults = []\n",
    "    \n",
    "    for x in range(0, dice):\n",
    "        rollresults.append(rng.integers(1, 7, size=rolls))\n",
    "      \n",
    "    summedresults = []\n",
    "    temparray = []\n",
    "    temparray2 = []\n",
    "    \n",
    "    for x in range(0, dice):\n",
    "        temparray = rollresults[x]\n",
    "        temparray2 = summedresults + temparray\n",
    "    print(summedresults)\n",
    "     \n",
    "    #for number in rollresults:\n",
    "        #if number in resultdict:\n",
    "            #resultdict[number] += 1\n",
    "        #else:\n",
    "           # resultdict[number] = 1\n",
    "   # return resultdict"
   ]
  },
  {
   "cell_type": "code",
   "execution_count": null,
   "metadata": {},
   "outputs": [],
   "source": [
    "dicerolls(2, 1)"
   ]
  },
  {
   "cell_type": "code",
   "execution_count": null,
   "metadata": {
    "scrolled": true
   },
   "outputs": [],
   "source": [
    "d1 = np.random.random_integers(1, 6, 1000)\n",
    "d2 = np.random.random_integers(1, 6, 1000)\n",
    "dsums = d1 + d2"
   ]
  },
  {
   "cell_type": "code",
   "execution_count": null,
   "metadata": {
    "scrolled": true
   },
   "outputs": [],
   "source": [
    "d1 = np.random.randint(1, 6, 10)\n",
    "print(d1)\n",
    "d2 = np.random.randint(1, 6, 10)\n",
    "print(d2)\n",
    "dsums = d1 + d2"
   ]
  },
  {
   "cell_type": "code",
   "execution_count": null,
   "metadata": {},
   "outputs": [],
   "source": [
    "dsums"
   ]
  },
  {
   "cell_type": "markdown",
   "metadata": {},
   "source": [
    "#### References for Task 2\n",
    "\n",
    "Generate a permutation\n",
    "https://numpy.org/doc/stable/reference/random/generated/numpy.random.Generator.permutation.html?highlight=numpy%20random%20permutation#numpy.random.Generator.permutation\n",
    "\n",
    "Stack Overflow\n",
    "https://stackoverflow.com/questions/45069108/use-list-as-function-definition-parameters-in-python\n",
    "\n",
    "Old Refernece guide for Integers: \n",
    "https://numpy.org/doc/stable/reference/random/generated/numpy.random.randint.html#numpy.random.randint\n",
    "\n",
    "Append reference material \n",
    "https://www.w3schools.com/python/python_arrays.asp\n",
    "https://www.geeksforgeeks.org/append-extend-python/\n",
    "\n",
    "Integers\n",
    "https://numpy.org/doc/stable/reference/random/generated/numpy.random.Generator.integers.html#numpy.random.Generator.integers\n",
    "\n",
    "SciPy Array\n",
    "https://stackoverflow.com/questions/49881570/python-dictionaries-appending-arrays-to-a-dictionary-for-a-specific-key\n",
    "\n",
    "\n",
    "___"
   ]
  },
  {
   "cell_type": "markdown",
   "metadata": {},
   "source": [
    "#### Task 3\n",
    "\n",
    "Create a program that will simulate the flipping of a coin 100 times. \n",
    "Then we need to run this simulation 1000 times, keeping track of the number of times the 'heads' value occurred. In a simulation like this, were it is a boolean outcome, whereby the result is either 1 or 0, we have associated heads with the positive value of 1. Tails, the other outcome will take the 0 value. \n",
    "\n",
    "Once we know the outcome of these 1000 simulations, we need to plot these values leveraging the binomial distribution package. The plot should, if completed correctly take a bell-curve distribution, whereby the occurances of values greater or lesser than 50 are the points at which the likelihood decreases. "
   ]
  },
  {
   "cell_type": "markdown",
   "metadata": {},
   "source": [
    "___"
   ]
  },
  {
   "cell_type": "markdown",
   "metadata": {},
   "source": [
    "Lets set our programme to return the basic result of one coin, tossed once. "
   ]
  },
  {
   "cell_type": "code",
   "execution_count": 12,
   "metadata": {},
   "outputs": [],
   "source": [
    "n = 1\n",
    "# Number of trials"
   ]
  },
  {
   "cell_type": "code",
   "execution_count": 15,
   "metadata": {},
   "outputs": [],
   "source": [
    "p = 0.5\n",
    "# probability of the outcome. We are stating that there is a 50% likelihood of heads or tails occuring. "
   ]
  },
  {
   "cell_type": "code",
   "execution_count": 16,
   "metadata": {},
   "outputs": [
    {
     "data": {
      "text/plain": [
       "0"
      ]
     },
     "execution_count": 16,
     "metadata": {},
     "output_type": "execute_result"
    }
   ],
   "source": [
    "Toss = rng.binomial(n, p)\n",
    "Toss"
   ]
  },
  {
   "cell_type": "markdown",
   "metadata": {},
   "source": [
    "In our code above, we are simulating the outcome of one single coin toss, whereby n is the number of trials and p is the probability of the outcome. As we have set the p value to 0.5, we have a fair chance of returning either heads or tails.\n",
    "\n",
    "If we were to introduce an element of bias into the equation, we would alter our p-value, in either direction. If we increase the p-value upwards towards one, we are saying that we are more likely to be successful to return a heads. If we reduce the p-value, it will be in favour of tails being returned. \n",
    "\n",
    "We must now alter this code, so that the first request of the program is complete - simulate the coin toss occurring 100 times."
   ]
  },
  {
   "cell_type": "code",
   "execution_count": 18,
   "metadata": {},
   "outputs": [],
   "source": [
    "n = 100"
   ]
  },
  {
   "cell_type": "code",
   "execution_count": 19,
   "metadata": {},
   "outputs": [],
   "source": [
    "p = 0.5"
   ]
  },
  {
   "cell_type": "code",
   "execution_count": 20,
   "metadata": {},
   "outputs": [
    {
     "data": {
      "text/plain": [
       "55"
      ]
     },
     "execution_count": 20,
     "metadata": {},
     "output_type": "execute_result"
    }
   ],
   "source": [
    "Toss = rng.binomial(n, p)\n",
    "Toss"
   ]
  },
  {
   "cell_type": "markdown",
   "metadata": {},
   "source": [
    "Now that we have simulated a fair toss of a coin 100 times, we must now add in our next component as per the request. \n",
    "We must introduce a component into the code, so that the simulation, is run 1,000 times. \n",
    "\n",
    "Given that we know that numpy has an extensive set of documentation we can call on binomial funciton to do the heavy-lifting. \n",
    "In order to run the simulation 1,000 times, we need to introduce the arguement 'size'. \n",
    "\n",
    "From reviewing the documentation, we can simply call a variable of the same name to that value."
   ]
  },
  {
   "cell_type": "code",
   "execution_count": 23,
   "metadata": {},
   "outputs": [],
   "source": [
    "size = 1000"
   ]
  },
  {
   "cell_type": "markdown",
   "metadata": {},
   "source": [
    "So that we can isolate the simulation of 100 tosses from that of 100 tosses 1,000 times, we take the statement and rename the variable, such that we now have the variable SecToss"
   ]
  },
  {
   "cell_type": "code",
   "execution_count": 25,
   "metadata": {
    "scrolled": true
   },
   "outputs": [
    {
     "data": {
      "text/plain": [
       "array([44, 53, 47, 41, 57, 54, 56, 57, 54, 52, 39, 47, 44, 54, 57, 47, 57,\n",
       "       50, 54, 50, 59, 51, 48, 58, 47, 51, 54, 47, 53, 53, 44, 55, 48, 54,\n",
       "       59, 45, 42, 56, 52, 52, 43, 52, 42, 49, 59, 42, 50, 49, 47, 52, 47,\n",
       "       42, 49, 58, 49, 42, 56, 51, 43, 55, 42, 51, 52, 45, 43, 47, 56, 52,\n",
       "       46, 53, 61, 54, 45, 49, 59, 52, 54, 47, 45, 51, 44, 48, 49, 42, 49,\n",
       "       55, 37, 53, 47, 45, 51, 50, 54, 46, 51, 48, 51, 45, 48, 52, 57, 49,\n",
       "       46, 56, 52, 54, 55, 42, 45, 53, 44, 39, 44, 56, 52, 47, 44, 49, 49,\n",
       "       45, 46, 50, 42, 50, 51, 54, 48, 46, 46, 50, 44, 60, 47, 46, 48, 53,\n",
       "       54, 47, 49, 48, 45, 48, 50, 51, 60, 58, 58, 52, 46, 50, 49, 43, 51,\n",
       "       59, 47, 48, 44, 53, 51, 55, 46, 54, 49, 47, 43, 54, 41, 50, 55, 42,\n",
       "       56, 51, 46, 51, 47, 56, 51, 52, 52, 52, 52, 46, 43, 41, 51, 63, 40,\n",
       "       48, 53, 60, 41, 59, 53, 51, 62, 48, 42, 50, 44, 45, 50, 51, 45, 52,\n",
       "       52, 47, 51, 43, 57, 52, 41, 50, 46, 46, 50, 54, 50, 44, 43, 45, 51,\n",
       "       47, 46, 45, 50, 50, 37, 55, 49, 46, 51, 55, 46, 49, 52, 57, 45, 54,\n",
       "       59, 49, 42, 49, 48, 45, 55, 59, 43, 59, 53, 52, 50, 52, 56, 57, 50,\n",
       "       44, 47, 51, 47, 41, 54, 52, 46, 48, 57, 59, 41, 58, 53, 52, 53, 55,\n",
       "       51, 38, 50, 62, 53, 52, 46, 47, 44, 46, 54, 52, 43, 52, 50, 49, 54,\n",
       "       48, 50, 46, 47, 57, 47, 42, 45, 54, 52, 51, 51, 48, 46, 54, 60, 41,\n",
       "       49, 55, 50, 43, 45, 46, 46, 56, 51, 47, 50, 51, 56, 53, 44, 52, 57,\n",
       "       50, 50, 42, 48, 50, 46, 57, 47, 59, 57, 49, 51, 50, 55, 49, 52, 53,\n",
       "       54, 49, 51, 43, 59, 47, 53, 53, 52, 46, 48, 51, 51, 55, 57, 54, 55,\n",
       "       49, 38, 54, 50, 51, 54, 39, 54, 55, 51, 52, 53, 47, 57, 49, 44, 49,\n",
       "       49, 50, 48, 48, 42, 45, 41, 51, 53, 42, 48, 51, 40, 43, 51, 59, 54,\n",
       "       53, 51, 46, 44, 57, 52, 45, 56, 54, 45, 51, 54, 46, 43, 55, 45, 41,\n",
       "       54, 46, 50, 57, 54, 53, 45, 53, 43, 58, 42, 54, 48, 51, 48, 57, 55,\n",
       "       46, 49, 47, 48, 49, 52, 61, 49, 54, 45, 56, 45, 47, 64, 57, 58, 50,\n",
       "       55, 51, 51, 51, 63, 49, 48, 55, 45, 51, 53, 58, 48, 58, 52, 49, 62,\n",
       "       37, 45, 55, 49, 43, 45, 47, 48, 58, 42, 59, 59, 47, 43, 51, 51, 51,\n",
       "       51, 44, 57, 42, 49, 50, 53, 51, 53, 50, 52, 45, 58, 46, 49, 52, 51,\n",
       "       51, 38, 55, 47, 45, 56, 50, 48, 54, 52, 49, 50, 47, 65, 48, 46, 51,\n",
       "       45, 46, 54, 54, 57, 50, 37, 47, 51, 56, 44, 47, 54, 53, 44, 52, 51,\n",
       "       45, 53, 49, 48, 61, 62, 53, 45, 46, 57, 54, 52, 51, 47, 52, 49, 51,\n",
       "       47, 52, 48, 51, 51, 40, 47, 52, 43, 58, 48, 54, 50, 50, 52, 53, 43,\n",
       "       39, 43, 53, 50, 52, 42, 43, 55, 62, 54, 48, 48, 60, 47, 48, 57, 45,\n",
       "       60, 50, 45, 57, 51, 48, 43, 47, 50, 49, 46, 52, 53, 48, 55, 53, 46,\n",
       "       45, 56, 46, 49, 49, 44, 53, 46, 50, 46, 51, 56, 47, 41, 49, 45, 48,\n",
       "       54, 50, 50, 55, 43, 54, 42, 48, 56, 49, 52, 46, 47, 57, 54, 53, 52,\n",
       "       44, 53, 50, 53, 49, 55, 47, 51, 59, 42, 48, 53, 47, 55, 43, 60, 49,\n",
       "       44, 55, 53, 45, 55, 43, 51, 58, 48, 49, 45, 45, 46, 45, 49, 49, 53,\n",
       "       58, 42, 53, 47, 31, 58, 47, 46, 47, 47, 42, 48, 49, 50, 51, 42, 44,\n",
       "       49, 50, 49, 52, 53, 60, 51, 45, 46, 50, 55, 31, 45, 52, 62, 50, 58,\n",
       "       47, 47, 41, 56, 46, 59, 46, 50, 44, 51, 50, 49, 57, 47, 50, 47, 56,\n",
       "       46, 46, 50, 44, 56, 40, 44, 55, 48, 50, 43, 50, 54, 53, 49, 56, 36,\n",
       "       49, 52, 55, 45, 57, 47, 52, 57, 52, 48, 43, 56, 50, 48, 43, 46, 42,\n",
       "       46, 50, 49, 64, 50, 46, 56, 56, 54, 50, 44, 47, 57, 57, 42, 48, 44,\n",
       "       51, 57, 50, 47, 47, 48, 53, 49, 44, 48, 47, 52, 55, 54, 49, 44, 48,\n",
       "       48, 50, 50, 49, 42, 58, 49, 48, 50, 46, 59, 58, 52, 48, 44, 45, 46,\n",
       "       58, 54, 56, 53, 54, 49, 48, 44, 50, 38, 44, 48, 44, 45, 53, 49, 45,\n",
       "       46, 56, 58, 58, 48, 54, 47, 46, 41, 47, 54, 43, 47, 52, 53, 44, 53,\n",
       "       51, 35, 46, 54, 46, 58, 50, 58, 53, 59, 52, 47, 50, 51, 49, 50, 59,\n",
       "       60, 54, 40, 51, 54, 45, 48, 47, 53, 57, 43, 51, 52, 58, 50, 47, 54,\n",
       "       49, 41, 46, 57, 53, 59, 48, 49, 52, 46, 53, 59, 53, 49, 55, 53, 45,\n",
       "       48, 54, 46, 56, 48, 53, 50, 51, 45, 57, 55, 50, 48, 55, 52, 50, 49,\n",
       "       57, 56, 47, 48, 53, 52, 46, 57, 59, 43, 52, 50, 56, 41, 47, 55, 53,\n",
       "       48, 51, 58, 50, 48, 48, 55, 43, 47, 54, 58, 56, 41, 53, 58, 47, 52,\n",
       "       49, 56, 46, 57, 51, 47, 61, 53, 57, 56, 51, 51, 53, 59, 51, 48, 56,\n",
       "       49, 48, 46, 53, 44, 47, 54, 50, 46, 58, 49, 46, 52, 51, 54, 42, 64,\n",
       "       49, 45, 52, 49, 45, 46, 54, 47, 51, 48, 48, 48, 53, 56, 55, 54, 47,\n",
       "       53, 51, 46, 57, 51, 55, 50, 48, 48, 42, 49, 60, 54, 55],\n",
       "      dtype=int64)"
      ]
     },
     "execution_count": 25,
     "metadata": {},
     "output_type": "execute_result"
    }
   ],
   "source": [
    "SecToss = rng.binomial(n, p, size=size)\n",
    "SecToss"
   ]
  },
  {
   "cell_type": "markdown",
   "metadata": {},
   "source": [
    "What we have produced in the code above is the result of 100 tosses of a coin simulated 1000 times. Each individual value in this array is the amount of times a coin was tossed and the 'heads' result was returned.\n",
    "\n",
    "This has been returned to us in an array format, with data type of int64. \n",
    "\n",
    "The next point of consideration is to be able produce an image that will display these results. In order for this to be completed, we need to introduce new modules from the library, MatPlotLib. As this is a very large package, we need to be more targeted in the modules to be introduce.\n",
    "\n",
    "Having reviewed the official [MatPlotLib](https://matplotlib.org/) documentation, we are going to introfduce the pyplot module."
   ]
  },
  {
   "cell_type": "code",
   "execution_count": 26,
   "metadata": {},
   "outputs": [],
   "source": [
    "import matplotlib.pyplot as plt"
   ]
  },
  {
   "cell_type": "code",
   "execution_count": 27,
   "metadata": {},
   "outputs": [
    {
     "data": {
      "image/png": "[encoded data removed]",
      "text/plain": [
       "<Figure size 432x288 with 1 Axes>"
      ]
     },
     "metadata": {
      "needs_background": "light"
     },
     "output_type": "display_data"
    }
   ],
   "source": [
    "count, bins, ignore = plt.hist(SecToss, 70, density=True, histtype='bar', label='Tossing a coin 1,000 times')\n",
    "plt.xlabel('Heads')\n",
    "plt.ylabel('Instances')\n",
    "plt.legend()\n",
    "plt.show()"
   ]
  },
  {
   "cell_type": "markdown",
   "metadata": {},
   "source": [
    "As we can see from the distribution from the table above, we have created a bell curve distribution. A bell curve was the desired output. As we move either side of the midpoint of 50, we see a tapering off in the occurances.   "
   ]
  },
  {
   "cell_type": "code",
   "execution_count": null,
   "metadata": {},
   "outputs": [],
   "source": [
    "#[np.equal(Toss, i).sum() for i in range(n)]"
   ]
  },
  {
   "cell_type": "code",
   "execution_count": null,
   "metadata": {},
   "outputs": [],
   "source": [
    "#probs_1000 = [np.equal(Toss,i).mean() for i in range(n)]\n",
    "#print(probs_1000)"
   ]
  },
  {
   "cell_type": "code",
   "execution_count": null,
   "metadata": {},
   "outputs": [],
   "source": [
    "#plt.xticks(range(n))\n",
    "#plt.plot(list(range(n)), probs_1000, color='blue', marker='o')\n",
    "#plt.xlabel('Number of Heads',fontsize=14)\n",
    "#plt.ylabel('Probability',fontsize=14)"
   ]
  },
  {
   "cell_type": "code",
   "execution_count": null,
   "metadata": {},
   "outputs": [],
   "source": [
    "#mu, sigma = 100, 0.5 # mean and sd\n",
    "#s = rng.normal(mu, sigma, 1000)\n",
    "#abs(mu - np.mean(s))\n",
    "#abs(sigma - np.std(s, ddof=1))\n",
    "#count, bins, ignored = plt.hist(s, 50, density=True)\n",
    "#plt.plot(bins, 1/(sigma * np.sqrt(2 * np.pi)) *\n",
    "               #np.exp( - (bins - mu)**2 / (2 * sigma**2) ),\n",
    "         #linewidth=2, color='r')"
   ]
  },
  {
   "cell_type": "code",
   "execution_count": null,
   "metadata": {},
   "outputs": [],
   "source": [
    "sum(rng.binomial(n, p, 1) == 0) / 100"
   ]
  },
  {
   "cell_type": "markdown",
   "metadata": {},
   "source": [
    "#### References for Task 3\n",
    "\n",
    "\n",
    "\n",
    "\n",
    "___"
   ]
  },
  {
   "cell_type": "markdown",
   "metadata": {},
   "source": [
    "#### Task 4\n",
    "\n",
    "Simpson’s paradox is a well-known statistical paradox where a trend evident in a number of groups reverses when the groups are combined into one big data set. Use numpy to create four data sets, each with an x array and a corresponding y array, to demonstrate Simpson’s paradox. You might create your x arrays using numpy.linspace and create the y array for each\n",
    "x using notation like y = a * x + b where you choose the a and b for each x , y pair to demonstrate the paradox. \n",
    "\n",
    "___"
   ]
  },
  {
   "cell_type": "markdown",
   "metadata": {},
   "source": [
    "Simpson's Paradox seeks to highlight the relationship between variables, when we isolate the variables from the data set. The paradox highlights that once we dig down into the data set, we set a reversal in what we initially have viewed. \n",
    "Simpson's Paradaox, according to [Brittannica](https://www.britannica.com/topic/Simpsons-paradox) is an example of an association paradox"
   ]
  },
  {
   "cell_type": "code",
   "execution_count": null,
   "metadata": {},
   "outputs": [],
   "source": [
    "# Create the first data set, with 10 samples being generated between the start and stop of the array"
   ]
  },
  {
   "cell_type": "code",
   "execution_count": null,
   "metadata": {},
   "outputs": [],
   "source": [
    "Arr1x = np.linspace(2.0, 8.0, num=20)\n",
    "Arr1x"
   ]
  },
  {
   "cell_type": "code",
   "execution_count": null,
   "metadata": {},
   "outputs": [],
   "source": [
    "Arr1y = 2 * Arr1x + 4.0\n",
    "Arr1y"
   ]
  },
  {
   "cell_type": "code",
   "execution_count": null,
   "metadata": {},
   "outputs": [],
   "source": [
    "Arr1xy = Arr1x + Arr1y\n",
    "Arr1xy"
   ]
  },
  {
   "cell_type": "markdown",
   "metadata": {},
   "source": [
    "____"
   ]
  },
  {
   "cell_type": "code",
   "execution_count": null,
   "metadata": {},
   "outputs": [],
   "source": [
    "# Create a second data set, holding in position the number of numbers to be generated"
   ]
  },
  {
   "cell_type": "code",
   "execution_count": null,
   "metadata": {},
   "outputs": [],
   "source": [
    "Arr2x = np.linspace(10.0, 16.0, 20)\n",
    "Arr2x"
   ]
  },
  {
   "cell_type": "code",
   "execution_count": null,
   "metadata": {},
   "outputs": [],
   "source": [
    "Arr2y = 10.0* Arr2x + 4.0\n",
    "Arr2y"
   ]
  },
  {
   "cell_type": "code",
   "execution_count": null,
   "metadata": {},
   "outputs": [],
   "source": [
    "Arr2xy = Arr2x + Arr2y\n",
    "Arr2xy"
   ]
  },
  {
   "cell_type": "code",
   "execution_count": null,
   "metadata": {},
   "outputs": [],
   "source": [
    "Combo12 = Arr1xy + Arr2xy\n",
    "Combo12"
   ]
  },
  {
   "cell_type": "markdown",
   "metadata": {},
   "source": [
    "___"
   ]
  },
  {
   "cell_type": "code",
   "execution_count": null,
   "metadata": {},
   "outputs": [],
   "source": [
    "# Create a third data set with the number of numbers far wider and larger, to create a contrast to the first two dataesets"
   ]
  },
  {
   "cell_type": "code",
   "execution_count": null,
   "metadata": {},
   "outputs": [],
   "source": [
    "Lis1x = np.linspace(20.0, 40.0, 50)\n",
    "Lis1x"
   ]
  },
  {
   "cell_type": "code",
   "execution_count": null,
   "metadata": {},
   "outputs": [],
   "source": [
    "Lis1y = 3.0 * Lis1x + 6.0\n",
    "Lis1y"
   ]
  },
  {
   "cell_type": "code",
   "execution_count": null,
   "metadata": {},
   "outputs": [],
   "source": [
    "Lis1xy = Lis1x + Lis1y\n",
    "Lis1xy"
   ]
  },
  {
   "cell_type": "markdown",
   "metadata": {},
   "source": [
    "___"
   ]
  },
  {
   "cell_type": "code",
   "execution_count": null,
   "metadata": {},
   "outputs": [],
   "source": [
    "# Create a fourth and final data set that will compliment the third"
   ]
  },
  {
   "cell_type": "code",
   "execution_count": null,
   "metadata": {},
   "outputs": [],
   "source": [
    "Lis2x = np.linspace(31.0, 45.0, 50)\n",
    "Lis2x"
   ]
  },
  {
   "cell_type": "code",
   "execution_count": null,
   "metadata": {},
   "outputs": [],
   "source": [
    "Lis2y = 10 * Lis2x + 3.0\n",
    "Lis2y"
   ]
  },
  {
   "cell_type": "code",
   "execution_count": null,
   "metadata": {},
   "outputs": [],
   "source": [
    "Lis2xy = Lis2x + Lis2y\n",
    "Lis2xy"
   ]
  },
  {
   "cell_type": "code",
   "execution_count": null,
   "metadata": {},
   "outputs": [],
   "source": [
    "Combo34 = Lis1xy + Lis2xy\n",
    "Combo34"
   ]
  },
  {
   "cell_type": "code",
   "execution_count": null,
   "metadata": {},
   "outputs": [],
   "source": [
    "plt.plot(Combo34)\n",
    "plt.plot(Combo12)\n",
    "plt.show;"
   ]
  },
  {
   "cell_type": "code",
   "execution_count": null,
   "metadata": {},
   "outputs": [],
   "source": [
    "plt.plot(Arr1xy, 'x')\n",
    "plt.plot(Arr2xy, 'o')\n",
    "plt.plot(Lis1xy)\n",
    "plt.plot(Lis2xy)\n",
    "plt.show();"
   ]
  },
  {
   "cell_type": "markdown",
   "metadata": {},
   "source": [
    "___"
   ]
  },
  {
   "cell_type": "markdown",
   "metadata": {},
   "source": [
    "#### References for Task 4\n",
    "\n",
    "Numpy Linspace\n",
    "https://numpy.org/doc/stable/reference/generated/numpy.linspace.html\n",
    "\n",
    "KDNuggets\n",
    "https://www.kdnuggets.com/2020/09/simpsons-paradox.html\n",
    "\n",
    "Towards Science\n",
    "https://towardsdatascience.com/solving-simpsons-paradox-e85433c68d03\n",
    "\n",
    "MinutePhysics\n",
    "https://www.youtube.com/watch?v=ebEkn-BiW5k\n",
    "\n",
    "Britannica\n",
    "https://www.britannica.com/topic/Simpsons-paradox\n",
    "\n",
    "Simpsosn Paradox\n",
    "https://en.wikipedia.org/wiki/Simpson%27s_paradox#cite_note-16\n",
    "\n",
    "Towards Science\n",
    "https://towardsdatascience.com/simpsons-paradox-how-to-prove-two-opposite-arguments-using-one-dataset-1c9c917f5ff9\n",
    "\n",
    "US National library of medicine\n",
    "https://www.ncbi.nlm.nih.gov/pmc/articles/PMC1339981/\n",
    "\n",
    "\n",
    "___"
   ]
  },
  {
   "cell_type": "markdown",
   "metadata": {},
   "source": [
    "### Bibliography"
   ]
  },
  {
   "cell_type": "markdown",
   "metadata": {},
   "source": [
    "LearnPython - Function\n",
    "https://www.learnpython.org/en/Functions\n",
    "\n",
    "\n",
    "Able.bio\n",
    "https://able.bio/rhett/check-if-a-key-exists-in-a-python-dictionary--73iajoz#:~:text=To%20simply%20check%20if%20a,')%20%23%20Dogs%20found!&text=A%20dictionary%20can%20be%20a,counting%20the%20occurrence%20of%20items.\n",
    "\n",
    "Stack Overflow\n",
    "https://stackoverflow.com/questions/45069108/use-list-as-function-definition-parameters-in-python\n",
    "\n",
    "Old Refernece guide for Integers: \n",
    "https://numpy.org/doc/stable/reference/random/generated/numpy.random.randint.html#numpy.random.randint\n"
   ]
  },
  {
   "cell_type": "code",
   "execution_count": null,
   "metadata": {},
   "outputs": [],
   "source": []
  },
  {
   "cell_type": "code",
   "execution_count": null,
   "metadata": {},
   "outputs": [],
   "source": []
  }
 ],
 "metadata": {
  "kernelspec": {
   "display_name": "Python 3",
   "language": "python",
   "name": "python3"
  },
  "language_info": {
   "codemirror_mode": {
    "name": "ipython",
    "version": 3
   },
   "file_extension": ".py",
   "mimetype": "text/x-python",
   "name": "python",
   "nbconvert_exporter": "python",
   "pygments_lexer": "ipython3",
   "version": "3.8.5"
  }
 },
 "nbformat": 4,
 "nbformat_minor": 4
}
