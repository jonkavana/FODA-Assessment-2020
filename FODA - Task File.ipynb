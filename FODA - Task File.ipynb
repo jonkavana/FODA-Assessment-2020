{
 "cells": [
  {
   "cell_type": "markdown",
   "metadata": {},
   "source": [
    "### Testing in the Jupyter Notebook view"
   ]
  },
  {
   "cell_type": "markdown",
   "metadata": {},
   "source": [
    "***"
   ]
  },
  {
   "cell_type": "markdown",
   "metadata": {},
   "source": [
    "#### Task 1\n",
    "\n",
    "We need to create a function that we call 'counts' that will take a list as an input and returns a dictionary as a result. \n",
    "In this disctionary, we need to be able to see the unique items that were input, and the number of times each unique item was counted. \n",
    "___"
   ]
  },
  {
   "cell_type": "code",
   "execution_count": 1,
   "metadata": {},
   "outputs": [],
   "source": [
    "def counts(list):\n",
    "    # this is where the important part is\n",
    "    dictionary = {}\n",
    "    \n",
    "    for letter in list:\n",
    "        if letter in dictionary:\n",
    "            dictionary[letter] += 1\n",
    "        else:\n",
    "            dictionary[letter] = 1\n",
    "            \n",
    "    return dictionary"
   ]
  },
  {
   "cell_type": "markdown",
   "metadata": {},
   "source": [
    "we need to set up the logic\n",
    "\n",
    "need a disctionary whose values always start at 0\n",
    "\n",
    "loop until no more items in the list\n",
    "    take next item in list\n",
    "    check if item is alreadu in dictionary\n",
    "        yes?\n",
    "            add one to vlaue associated with key\n",
    "        no?\n",
    "            put item in dictionary as key\n",
    "            add 1 to value of that key\n",
    "     put item in dictionary as key\n",
    "     add 1 to value of that key\n",
    "end loop"
   ]
  },
  {
   "cell_type": "code",
   "execution_count": 2,
   "metadata": {},
   "outputs": [
    {
     "data": {
      "text/plain": [
       "{'A': 7, 'B': 1, 'C': 1}"
      ]
     },
     "execution_count": 2,
     "metadata": {},
     "output_type": "execute_result"
    }
   ],
   "source": [
    "counts(['A', 'A', 'B', 'C', 'A', 'A', 'A', 'A', 'A'])"
   ]
  },
  {
   "cell_type": "markdown",
   "metadata": {},
   "source": [
    "#### References for Task 1\n",
    "\n",
    "LearnPython - Function\n",
    "https://www.learnpython.org/en/Functions\n",
    "\n",
    "Able.bio\n",
    "https://able.bio/rhett/check-if-a-key-exists-in-a-python-dictionary--73iajoz#\n",
    "\n",
    "\n",
    "___"
   ]
  },
  {
   "cell_type": "markdown",
   "metadata": {},
   "source": [
    "#### Task 2\n",
    "\n",
    "We need to create a function, called 'dicerolls', that will simulate rolling dice. There are two parameters of consideration that need to be reviewed. \n",
    "\n",
    "- Number of Dice: 'k'\n",
    "- Number of times that the dice are rolled: 'n'\n",
    "\n",
    "The aim of the function is to simulate the rolling of the dice, n times, and to keep track of the total of each face value. This should be stored in a disctionary, displaying the number of times each total face value happened.  \n",
    "___"
   ]
  },
  {
   "cell_type": "code",
   "execution_count": 3,
   "metadata": {},
   "outputs": [],
   "source": [
    "import numpy as np"
   ]
  },
  {
   "cell_type": "code",
   "execution_count": 4,
   "metadata": {},
   "outputs": [],
   "source": [
    "# What's this doing?\n",
    "\n",
    "rng = np.random.default_rng()"
   ]
  },
  {
   "cell_type": "code",
   "execution_count": 5,
   "metadata": {},
   "outputs": [
    {
     "data": {
      "text/plain": [
       "Generator(PCG64) at 0x1A015E14D60"
      ]
     },
     "execution_count": 5,
     "metadata": {},
     "output_type": "execute_result"
    }
   ],
   "source": [
    "# and again\n",
    "rng"
   ]
  },
  {
   "cell_type": "code",
   "execution_count": null,
   "metadata": {},
   "outputs": [],
   "source": [
    " def dicerolls(dice, rolls):\n",
    "    resultdict = {}\n",
    "    rollresults = rng.integers(1, 7, size=rolls)\n",
    "       \n",
    "    for number in rollresults:\n",
    "        if number in resultdict:\n",
    "            resultdict[number] += 1\n",
    "        else:\n",
    "            resultdict[number] = 1\n",
    "    return resultdict"
   ]
  },
  {
   "cell_type": "code",
   "execution_count": null,
   "metadata": {},
   "outputs": [],
   "source": [
    "# how to store an array inside an array \n",
    "\n",
    "def dicerolls(dice, rolls):\n",
    "    resultdict = {}\n",
    "    # print(rollresults)\n",
    "    \n",
    "    rollresults = []\n",
    "    \n",
    "    for x in range(0, dice):\n",
    "        rollresults.append(rng.integers(1, 7, size=rolls))\n",
    "      \n",
    "    summedresults = []\n",
    "    temparray = []\n",
    "    temparray2 = []\n",
    "    \n",
    "    for x in range(0, dice):\n",
    "        temparray = rollresults[x]\n",
    "        temparray2 = summedresults + temparray\n",
    "    print(summedresults)\n",
    "     \n",
    "    #for number in rollresults:\n",
    "        #if number in resultdict:\n",
    "            #resultdict[number] += 1\n",
    "        #else:\n",
    "           # resultdict[number] = 1\n",
    "   # return resultdict"
   ]
  },
  {
   "cell_type": "code",
   "execution_count": null,
   "metadata": {},
   "outputs": [],
   "source": [
    "dicerolls(2, 1)"
   ]
  },
  {
   "cell_type": "code",
   "execution_count": null,
   "metadata": {
    "scrolled": true
   },
   "outputs": [],
   "source": [
    "d1 = np.random.random_integers(1, 6, 1000)\n",
    "d2 = np.random.random_integers(1, 6, 1000)\n",
    "dsums = d1 + d2"
   ]
  },
  {
   "cell_type": "code",
   "execution_count": null,
   "metadata": {
    "scrolled": true
   },
   "outputs": [],
   "source": [
    "d1 = np.random.randint(1, 6, 10)\n",
    "print(d1)\n",
    "d2 = np.random.randint(1, 6, 10)\n",
    "print(d2)\n",
    "dsums = d1 + d2"
   ]
  },
  {
   "cell_type": "code",
   "execution_count": null,
   "metadata": {},
   "outputs": [],
   "source": [
    "dsums"
   ]
  },
  {
   "cell_type": "markdown",
   "metadata": {},
   "source": [
    "#### References for Task 2\n",
    "\n",
    "Stack Overflow\n",
    "https://stackoverflow.com/questions/45069108/use-list-as-function-definition-parameters-in-python\n",
    "\n",
    "Old Refernece guide for Integers: \n",
    "https://numpy.org/doc/stable/reference/random/generated/numpy.random.randint.html#numpy.random.randint\n",
    "\n",
    "\n",
    "___"
   ]
  },
  {
   "cell_type": "markdown",
   "metadata": {},
   "source": [
    "#### Task 3\n",
    "\n",
    "Create a program that will simulate the flipping of a coin 100 times. \n",
    "Then we need to run this simulation 1000 times, keeping track of the number of times the 'heads' value occurred. \n",
    "\n",
    "Once we know the value of these 1000 simulations, we need to plot these values leveraging the binomial distribution package. The plot should, if completely correctly, should take a bell-curve distribution, whereby the occurances of values greater or lesser than 50 are the points at which the likelihood decreases. \n",
    "___"
   ]
  },
  {
   "cell_type": "code",
   "execution_count": 6,
   "metadata": {},
   "outputs": [],
   "source": [
    "n = 1\n",
    "# Number of trials"
   ]
  },
  {
   "cell_type": "code",
   "execution_count": 7,
   "metadata": {},
   "outputs": [],
   "source": [
    "p = 0.5\n",
    "# probability of each event"
   ]
  },
  {
   "cell_type": "code",
   "execution_count": 18,
   "metadata": {},
   "outputs": [
    {
     "data": {
      "text/plain": [
       "1"
      ]
     },
     "execution_count": 18,
     "metadata": {},
     "output_type": "execute_result"
    }
   ],
   "source": [
    "Toss = rng.binomial(n, p)\n",
    "Toss"
   ]
  },
  {
   "cell_type": "markdown",
   "metadata": {},
   "source": [
    "In our code above, we are simulating the outcome of one single coin toss, whereby n is the number of trails ans p is the probability of the outcome. As we have set the p value to 0.5, we have a fair chance of returning either heads or tails.\n",
    "\n",
    "If we were to introduce an element of bias into the equation, we would alter our p-value, in either direction. If we increase, we are saying that we are more likely to be successful to return a heads. If we reduce the p-value, it will be in favour of a failure, or tails being returned. \n",
    "\n",
    "We must now alter this code, so that the first request of the program is complete - simulate the toin coss 100 times."
   ]
  },
  {
   "cell_type": "code",
   "execution_count": 19,
   "metadata": {},
   "outputs": [],
   "source": [
    "n = 100"
   ]
  },
  {
   "cell_type": "code",
   "execution_count": 20,
   "metadata": {},
   "outputs": [],
   "source": [
    "p = 0.5"
   ]
  },
  {
   "cell_type": "code",
   "execution_count": 24,
   "metadata": {},
   "outputs": [
    {
     "data": {
      "text/plain": [
       "56"
      ]
     },
     "execution_count": 24,
     "metadata": {},
     "output_type": "execute_result"
    }
   ],
   "source": [
    "Toss = rng.binomial(n, p)\n",
    "Toss"
   ]
  },
  {
   "cell_type": "code",
   "execution_count": 25,
   "metadata": {},
   "outputs": [],
   "source": [
    "# I think that i might need to insert a new variable container in here for the values of the above"
   ]
  },
  {
   "cell_type": "markdown",
   "metadata": {},
   "source": [
    "Now that we have simulated a fair toss of a coin 100 times, we must now add in our next component as per the request. \n",
    "We must introduce a component into the code, so that simulation, is run 1,000 times. \n",
    "\n",
    "Given that we now that numpy has an extensive set of documentation, and we can call on binomial funciton to do the heavy-lifting, we will need to add in the size arguemnt into the statement. so we set size as 1000."
   ]
  },
  {
   "cell_type": "code",
   "execution_count": 26,
   "metadata": {},
   "outputs": [],
   "source": [
    "size = 1000"
   ]
  },
  {
   "cell_type": "code",
   "execution_count": 29,
   "metadata": {},
   "outputs": [
    {
     "data": {
      "text/plain": [
       "array([50, 55, 50, 48, 50, 47, 45, 49, 40, 48, 46, 54, 44, 55, 49, 44, 54,\n",
       "       41, 54, 52, 48, 40, 49, 45, 48, 54, 49, 51, 50, 46, 56, 46, 53, 53,\n",
       "       47, 47, 52, 49, 44, 53, 49, 50, 57, 60, 53, 50, 55, 48, 47, 50, 52,\n",
       "       54, 54, 49, 52, 55, 51, 47, 53, 45, 50, 47, 68, 50, 53, 58, 49, 54,\n",
       "       54, 59, 60, 46, 51, 54, 49, 45, 46, 43, 52, 56, 47, 53, 53, 54, 53,\n",
       "       40, 51, 48, 49, 48, 52, 53, 42, 49, 54, 50, 56, 56, 39, 52, 44, 54,\n",
       "       48, 49, 57, 38, 45, 51, 43, 48, 55, 49, 50, 49, 51, 50, 43, 59, 62,\n",
       "       53, 46, 44, 49, 50, 46, 48, 53, 55, 49, 52, 43, 50, 42, 52, 50, 46,\n",
       "       51, 45, 52, 51, 45, 48, 49, 41, 44, 52, 41, 56, 51, 63, 44, 51, 54,\n",
       "       53, 49, 45, 46, 47, 49, 46, 45, 43, 57, 40, 45, 46, 50, 50, 51, 50,\n",
       "       54, 48, 46, 47, 47, 44, 42, 44, 46, 51, 61, 46, 48, 51, 58, 48, 47,\n",
       "       48, 52, 46, 47, 56, 51, 45, 55, 53, 62, 54, 54, 53, 50, 50, 61, 54,\n",
       "       46, 51, 56, 48, 47, 54, 52, 52, 48, 50, 55, 54, 52, 56, 51, 48, 47,\n",
       "       49, 48, 53, 45, 51, 55, 50, 44, 50, 51, 52, 49, 46, 51, 45, 43, 53,\n",
       "       55, 46, 53, 50, 49, 48, 45, 50, 50, 49, 50, 52, 48, 43, 47, 58, 41,\n",
       "       45, 55, 51, 55, 45, 53, 48, 46, 49, 52, 54, 56, 42, 49, 51, 53, 57,\n",
       "       54, 42, 49, 52, 53, 48, 49, 48, 50, 50, 55, 53, 49, 42, 49, 44, 55,\n",
       "       50, 53, 52, 50, 55, 48, 56, 53, 51, 48, 52, 47, 43, 58, 50, 31, 52,\n",
       "       56, 58, 47, 47, 54, 50, 56, 49, 49, 51, 57, 46, 49, 50, 48, 55, 53,\n",
       "       57, 50, 41, 53, 55, 51, 46, 52, 51, 51, 53, 48, 55, 52, 55, 54, 50,\n",
       "       65, 56, 59, 53, 53, 58, 47, 52, 60, 44, 50, 54, 53, 50, 48, 49, 48,\n",
       "       42, 48, 56, 51, 51, 50, 47, 50, 43, 50, 50, 51, 64, 51, 56, 50, 53,\n",
       "       43, 47, 47, 47, 55, 56, 53, 51, 53, 41, 42, 56, 53, 53, 52, 51, 47,\n",
       "       52, 50, 47, 61, 46, 52, 44, 50, 49, 54, 57, 47, 49, 46, 57, 51, 49,\n",
       "       54, 39, 53, 50, 44, 46, 48, 42, 47, 53, 44, 56, 53, 52, 47, 47, 49,\n",
       "       53, 53, 43, 46, 53, 56, 56, 47, 59, 46, 53, 46, 43, 48, 42, 48, 43,\n",
       "       53, 53, 50, 37, 50, 46, 53, 55, 52, 54, 55, 54, 55, 54, 57, 48, 57,\n",
       "       54, 54, 55, 40, 56, 45, 52, 43, 52, 54, 52, 43, 54, 41, 47, 52, 44,\n",
       "       55, 50, 47, 50, 48, 50, 39, 46, 50, 50, 48, 52, 51, 54, 51, 58, 50,\n",
       "       36, 35, 45, 48, 36, 57, 55, 53, 46, 53, 51, 51, 54, 47, 45, 52, 55,\n",
       "       44, 49, 54, 50, 55, 54, 56, 47, 45, 55, 47, 48, 54, 56, 53, 54, 57,\n",
       "       55, 45, 50, 52, 45, 44, 51, 52, 48, 55, 54, 49, 52, 56, 63, 43, 45,\n",
       "       55, 56, 57, 42, 43, 55, 48, 47, 53, 48, 45, 48, 48, 50, 53, 48, 47,\n",
       "       40, 55, 49, 49, 48, 40, 50, 54, 50, 52, 49, 43, 56, 48, 54, 60, 54,\n",
       "       48, 46, 50, 50, 49, 55, 50, 54, 57, 59, 44, 51, 51, 46, 44, 54, 43,\n",
       "       44, 45, 48, 59, 50, 53, 54, 41, 47, 55, 51, 51, 54, 54, 51, 48, 55,\n",
       "       47, 53, 57, 46, 48, 49, 49, 56, 50, 54, 56, 49, 59, 52, 40, 44, 56,\n",
       "       53, 47, 55, 48, 49, 36, 45, 50, 60, 54, 47, 38, 45, 43, 56, 52, 47,\n",
       "       55, 48, 51, 51, 51, 55, 47, 42, 37, 49, 56, 48, 54, 52, 54, 56, 46,\n",
       "       51, 48, 46, 51, 51, 46, 53, 45, 49, 50, 43, 51, 47, 51, 51, 48, 43,\n",
       "       49, 41, 58, 47, 46, 49, 52, 47, 51, 45, 50, 58, 49, 45, 49, 38, 45,\n",
       "       42, 39, 57, 46, 58, 56, 51, 56, 53, 50, 54, 58, 39, 48, 48, 54, 47,\n",
       "       46, 51, 65, 40, 44, 50, 45, 53, 53, 48, 47, 52, 44, 50, 62, 51, 61,\n",
       "       50, 53, 48, 50, 46, 51, 51, 53, 44, 50, 45, 46, 54, 46, 50, 48, 46,\n",
       "       50, 46, 52, 46, 43, 58, 51, 51, 50, 48, 47, 51, 44, 48, 48, 44, 47,\n",
       "       54, 52, 48, 36, 49, 43, 44, 51, 51, 46, 52, 45, 55, 48, 55, 40, 50,\n",
       "       42, 52, 47, 50, 49, 51, 52, 48, 59, 52, 49, 45, 51, 49, 55, 48, 46,\n",
       "       48, 46, 54, 47, 40, 51, 48, 46, 45, 47, 60, 51, 52, 49, 53, 48, 49,\n",
       "       53, 53, 51, 50, 50, 51, 54, 45, 49, 44, 42, 49, 50, 55, 48, 62, 45,\n",
       "       45, 51, 44, 50, 52, 43, 59, 44, 50, 42, 53, 51, 53, 46, 56, 52, 42,\n",
       "       47, 55, 46, 56, 51, 55, 51, 58, 48, 53, 48, 48, 48, 54, 44, 42, 48,\n",
       "       48, 40, 42, 45, 44, 44, 54, 59, 48, 46, 58, 49, 40, 48, 46, 62, 53,\n",
       "       32, 42, 43, 60, 47, 46, 45, 48, 48, 49, 54, 56, 48, 50, 53, 53, 44,\n",
       "       42, 48, 51, 56, 47, 51, 55, 54, 50, 47, 49, 59, 51, 58, 51, 54, 58,\n",
       "       54, 53, 55, 50, 56, 48, 45, 44, 55, 50, 42, 48, 41, 59, 50, 59, 53,\n",
       "       47, 40, 52, 52, 55, 58, 48, 55, 46, 43, 51, 45, 57, 54, 47, 46, 49,\n",
       "       45, 53, 51, 42, 47, 53, 53, 51, 48, 46, 37, 49, 48, 44, 44, 55, 39,\n",
       "       47, 54, 59, 50, 51, 53, 45, 54, 46, 50, 44, 49, 50, 49, 44, 57, 54,\n",
       "       56, 50, 51, 50, 49, 60, 46, 46, 52, 55, 49, 55, 56, 39],\n",
       "      dtype=int64)"
      ]
     },
     "execution_count": 29,
     "metadata": {},
     "output_type": "execute_result"
    }
   ],
   "source": [
    "Toss = rng.binomial(n, p, size=size)\n",
    "Toss"
   ]
  },
  {
   "cell_type": "code",
   "execution_count": 28,
   "metadata": {},
   "outputs": [],
   "source": [
    "# need to be able to cut out the middle and readjust this line to be smaller, scroll option is available. "
   ]
  },
  {
   "cell_type": "markdown",
   "metadata": {},
   "source": [
    "What we have produced in the code above is are the result of a heads being returned from 100 tosses of a coin, 1000 times.\n",
    "\n",
    "The enxt point of consideration is to be able produce an image that will display these results. In order for this to be completed, we need to introduce new modules into the programme, MatPlotLib. As this is a very large package, we need to be more targeted in the modules to introduce, so we are going to choose the pyplot option."
   ]
  },
  {
   "cell_type": "code",
   "execution_count": 30,
   "metadata": {},
   "outputs": [],
   "source": [
    "import matplotlib.pyplot as plt\n",
    "# within this library, we are going to use a histogram to show the occurances."
   ]
  },
  {
   "cell_type": "code",
   "execution_count": 49,
   "metadata": {},
   "outputs": [
    {
     "data": {
      "image/png": "[encoded data removed]",
      "text/plain": [
       "<Figure size 432x288 with 1 Axes>"
      ]
     },
     "metadata": {
      "needs_background": "light"
     },
     "output_type": "display_data"
    }
   ],
   "source": [
    "plt.hist(Toss, 50, histtype='step')\n",
    "plt.xlabel('Heads')\n",
    "plt.ylabel('Heads')\n",
    "plt.show()"
   ]
  },
  {
   "cell_type": "markdown",
   "metadata": {},
   "source": [
    "As we can see from the distribution from the table above, we have a very large "
   ]
  },
  {
   "cell_type": "code",
   "execution_count": null,
   "metadata": {},
   "outputs": [],
   "source": [
    "sum(rng.binomial(n, p, 1) == 0) / 100"
   ]
  },
  {
   "cell_type": "markdown",
   "metadata": {},
   "source": [
    "#### References for Task 3\n",
    "\n",
    "Binomial Distribution Documentation\n",
    "https://numpy.org/doc/stable/reference/random/generated/numpy.random.binomial.html\n",
    "\n",
    "___"
   ]
  },
  {
   "cell_type": "markdown",
   "metadata": {},
   "source": [
    "#### Task 4\n",
    "\n",
    "Simpson’s paradox is a well-known statistical paradox where a trend evident in a number of groups reverses when the groups are combined into one big data set. Use numpy to create four data sets, each with an x array and a corresponding y array, to demonstrate Simpson’s paradox. You might create your x arrays using numpy.linspace and create the y array for each\n",
    "x using notation like y = a * x + b where you choose the a and b for each x , y pair to demonstrate the paradox. \n",
    "\n",
    "___"
   ]
  },
  {
   "cell_type": "markdown",
   "metadata": {},
   "source": [
    "#### References for Task 4\n",
    "\n",
    "\n",
    "___"
   ]
  },
  {
   "cell_type": "markdown",
   "metadata": {},
   "source": [
    "### Bibliography"
   ]
  },
  {
   "cell_type": "markdown",
   "metadata": {},
   "source": [
    "LearnPython - Function\n",
    "https://www.learnpython.org/en/Functions\n",
    "\n",
    "\n",
    "Able.bio\n",
    "https://able.bio/rhett/check-if-a-key-exists-in-a-python-dictionary--73iajoz#:~:text=To%20simply%20check%20if%20a,')%20%23%20Dogs%20found!&text=A%20dictionary%20can%20be%20a,counting%20the%20occurrence%20of%20items.\n",
    "\n",
    "Stack Overflow\n",
    "https://stackoverflow.com/questions/45069108/use-list-as-function-definition-parameters-in-python\n",
    "\n",
    "Old Refernece guide for Integers: \n",
    "https://numpy.org/doc/stable/reference/random/generated/numpy.random.randint.html#numpy.random.randint\n"
   ]
  },
  {
   "cell_type": "code",
   "execution_count": null,
   "metadata": {},
   "outputs": [],
   "source": []
  },
  {
   "cell_type": "code",
   "execution_count": null,
   "metadata": {},
   "outputs": [],
   "source": []
  }
 ],
 "metadata": {
  "kernelspec": {
   "display_name": "Python 3",
   "language": "python",
   "name": "python3"
  },
  "language_info": {
   "codemirror_mode": {
    "name": "ipython",
    "version": 3
   },
   "file_extension": ".py",
   "mimetype": "text/x-python",
   "name": "python",
   "nbconvert_exporter": "python",
   "pygments_lexer": "ipython3",
   "version": "3.8.5"
  }
 },
 "nbformat": 4,
 "nbformat_minor": 4
}
