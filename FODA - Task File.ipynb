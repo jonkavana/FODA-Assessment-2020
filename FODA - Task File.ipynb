{
 "cells": [
  {
   "cell_type": "markdown",
   "metadata": {},
   "source": [
    "### Testing in the Jupyter Notebook view"
   ]
  },
  {
   "cell_type": "markdown",
   "metadata": {},
   "source": [
    "***"
   ]
  },
  {
   "cell_type": "markdown",
   "metadata": {},
   "source": [
    "#### Task 1\n",
    "\n",
    "We need to create a function that we call 'counts' that will take a list as an input and returns a dictionary as a result. \n",
    "In this disctionary, we need to be able to see the unique items that were input, and the number of times each unique item was counted. \n",
    "___"
   ]
  },
  {
   "cell_type": "code",
   "execution_count": 8,
   "metadata": {},
   "outputs": [],
   "source": [
    "def counts(list):\n",
    "    # this is where the important part is\n",
    "    dictionary = {}\n",
    "    \n",
    "    for letter in list:\n",
    "        if letter in dictionary:\n",
    "            dictionary[letter] += 1\n",
    "        else:\n",
    "            dictionary[letter] = 1\n",
    "            \n",
    "    return dictionary"
   ]
  },
  {
   "cell_type": "markdown",
   "metadata": {},
   "source": [
    "we need to set up the logic\n",
    "\n",
    "need a disctionary whose values always start at 0\n",
    "\n",
    "loop until no more items in the list\n",
    "    take next item in list\n",
    "    check if item is alreadu in dictionary\n",
    "        yes?\n",
    "            add one to vlaue associated with key\n",
    "        no?\n",
    "            put item in dictionary as key\n",
    "            add 1 to value of that key\n",
    "     put item in dictionary as key\n",
    "     add 1 to value of that key\n",
    "end loop"
   ]
  },
  {
   "cell_type": "code",
   "execution_count": 35,
   "metadata": {},
   "outputs": [
    {
     "data": {
      "text/plain": [
       "{'A': 7, 'B': 1, 'C': 1}"
      ]
     },
     "execution_count": 35,
     "metadata": {},
     "output_type": "execute_result"
    }
   ],
   "source": [
    "counts(['A', 'A', 'B', 'C', 'A', 'A', 'A', 'A', 'A'])"
   ]
  },
  {
   "cell_type": "markdown",
   "metadata": {},
   "source": [
    "#### References for Task 1\n",
    "\n",
    "LearnPython - Function\n",
    "https://www.learnpython.org/en/Functions\n",
    "\n",
    "Able.bio\n",
    "https://able.bio/rhett/check-if-a-key-exists-in-a-python-dictionary--73iajoz#\n",
    "\n",
    "\n",
    "___"
   ]
  },
  {
   "cell_type": "markdown",
   "metadata": {},
   "source": [
    "#### Task 2\n",
    "\n",
    "We need to create a function, called 'dicerolls', that will simulate rolling dice. There are two parameters of consideration that need to be reviewed. \n",
    "\n",
    "- Number of Dice: 'k'\n",
    "- Number of times that the dice are rolled: 'n'\n",
    "\n",
    "The aim of the function is to simulate the rolling of the dice, n times, and to keep track of the total of each face value. This should be stored in a disctionary, displaying the number of times each total face value happened.  \n",
    "___"
   ]
  },
  {
   "cell_type": "code",
   "execution_count": 10,
   "metadata": {},
   "outputs": [],
   "source": [
    "import numpy as np"
   ]
  },
  {
   "cell_type": "code",
   "execution_count": 32,
   "metadata": {},
   "outputs": [],
   "source": [
    "# What's this doing?\n",
    "\n",
    "rng = np.random.default_rng()"
   ]
  },
  {
   "cell_type": "code",
   "execution_count": 12,
   "metadata": {},
   "outputs": [
    {
     "data": {
      "text/plain": [
       "Generator(PCG64) at 0x2996C7D0E50"
      ]
     },
     "execution_count": 12,
     "metadata": {},
     "output_type": "execute_result"
    }
   ],
   "source": [
    "# and again\n",
    "rng"
   ]
  },
  {
   "cell_type": "code",
   "execution_count": 13,
   "metadata": {},
   "outputs": [],
   "source": [
    " def dicerolls(dice, rolls):\n",
    "    resultdict = {}\n",
    "    rollresults = rng.integers(1, 7, size=rolls)\n",
    "       \n",
    "    for number in rollresults:\n",
    "        if number in resultdict:\n",
    "            resultdict[number] += 1\n",
    "        else:\n",
    "            resultdict[number] = 1\n",
    "    return resultdict"
   ]
  },
  {
   "cell_type": "code",
   "execution_count": 88,
   "metadata": {},
   "outputs": [],
   "source": [
    "# how to store an array inside an array \n",
    "\n",
    "def dicerolls(dice, rolls):\n",
    "    resultdict = {}\n",
    "    # print(rollresults)\n",
    "    \n",
    "    rollresults = []\n",
    "    \n",
    "    for x in range(0, dice):\n",
    "        rollresults.append(rng.integers(1, 7, size=rolls))\n",
    "      \n",
    "    summedresults = []\n",
    "    temparray = []\n",
    "    temparray2 = []\n",
    "    \n",
    "    for x in range(0, dice):\n",
    "        temparray = rollresults[x]\n",
    "        temparray2 = summedresults + temparray\n",
    "    print(summedresults)\n",
    "     \n",
    "    #for number in rollresults:\n",
    "        #if number in resultdict:\n",
    "            #resultdict[number] += 1\n",
    "        #else:\n",
    "           # resultdict[number] = 1\n",
    "   # return resultdict"
   ]
  },
  {
   "cell_type": "code",
   "execution_count": 92,
   "metadata": {},
   "outputs": [
    {
     "name": "stdout",
     "output_type": "stream",
     "text": [
      "[]\n"
     ]
    }
   ],
   "source": [
    "dicerolls(2, 1)"
   ]
  },
  {
   "cell_type": "code",
   "execution_count": 17,
   "metadata": {
    "scrolled": true
   },
   "outputs": [
    {
     "name": "stderr",
     "output_type": "stream",
     "text": [
      "<ipython-input-17-8c19f05cb1d0>:1: DeprecationWarning: This function is deprecated. Please call randint(1, 6 + 1) instead\n",
      "  d1 = np.random.random_integers(1, 6, 1000)\n",
      "<ipython-input-17-8c19f05cb1d0>:2: DeprecationWarning: This function is deprecated. Please call randint(1, 6 + 1) instead\n",
      "  d2 = np.random.random_integers(1, 6, 1000)\n"
     ]
    }
   ],
   "source": [
    "d1 = np.random.random_integers(1, 6, 1000)\n",
    "d2 = np.random.random_integers(1, 6, 1000)\n",
    "dsums = d1 + d2"
   ]
  },
  {
   "cell_type": "code",
   "execution_count": 81,
   "metadata": {
    "scrolled": true
   },
   "outputs": [
    {
     "name": "stdout",
     "output_type": "stream",
     "text": [
      "[1 1 1 4 1 2 3 2 3 4]\n",
      "[1 1 3 2 4 2 3 5 5 2]\n"
     ]
    }
   ],
   "source": [
    "d1 = np.random.randint(1, 6, 10)\n",
    "print(d1)\n",
    "d2 = np.random.randint(1, 6, 10)\n",
    "print(d2)\n",
    "dsums = d1 + d2"
   ]
  },
  {
   "cell_type": "code",
   "execution_count": 82,
   "metadata": {},
   "outputs": [
    {
     "data": {
      "text/plain": [
       "array([2, 2, 4, 6, 5, 4, 6, 7, 8, 6])"
      ]
     },
     "execution_count": 82,
     "metadata": {},
     "output_type": "execute_result"
    }
   ],
   "source": [
    "dsums"
   ]
  },
  {
   "cell_type": "markdown",
   "metadata": {},
   "source": [
    "#### References for Task 2\n",
    "\n",
    "Stack Overflow\n",
    "https://stackoverflow.com/questions/45069108/use-list-as-function-definition-parameters-in-python\n",
    "\n",
    "Old Refernece guide for Integers: \n",
    "https://numpy.org/doc/stable/reference/random/generated/numpy.random.randint.html#numpy.random.randint\n",
    "\n",
    "\n",
    "___"
   ]
  },
  {
   "cell_type": "markdown",
   "metadata": {},
   "source": [
    "#### Task 3\n",
    "\n",
    "Create a program that will simulate the flipping of a coin 100 times. \n",
    "Then we need to run this simulation 1000 times, keeping track of the number of times the 'heads' value occurred. \n",
    "\n",
    "Once we know the value of these 1000 simulations, we need to plot these values leveraging the binomial distribution package. The plot should, if completely correctly, should take a bell-curve distribution, whereby the occurances of values greater or lesser than 50 are the points at which the likelihood decreases. \n",
    "___"
   ]
  },
  {
   "cell_type": "code",
   "execution_count": 20,
   "metadata": {},
   "outputs": [],
   "source": [
    "n = 2\n",
    "# Number of trials"
   ]
  },
  {
   "cell_type": "code",
   "execution_count": 21,
   "metadata": {},
   "outputs": [],
   "source": [
    "p = 0.5\n",
    "# probability of each event"
   ]
  },
  {
   "cell_type": "code",
   "execution_count": 22,
   "metadata": {},
   "outputs": [],
   "source": [
    "Toss = rng.binomial(n, p, 50)"
   ]
  },
  {
   "cell_type": "code",
   "execution_count": 23,
   "metadata": {},
   "outputs": [
    {
     "data": {
      "text/plain": [
       "array([1, 2, 2, 2, 1, 1, 0, 0, 1, 2, 1, 1, 1, 2, 1, 1, 2, 1, 1, 0, 1, 2,\n",
       "       1, 2, 0, 1, 0, 2, 1, 0, 0, 1, 1, 1, 1, 2, 0, 1, 0, 1, 0, 0, 1, 1,\n",
       "       0, 2, 2, 1, 1, 2], dtype=int64)"
      ]
     },
     "execution_count": 23,
     "metadata": {},
     "output_type": "execute_result"
    }
   ],
   "source": [
    "Toss"
   ]
  },
  {
   "cell_type": "code",
   "execution_count": 29,
   "metadata": {},
   "outputs": [
    {
     "data": {
      "text/plain": [
       "0.0"
      ]
     },
     "execution_count": 29,
     "metadata": {},
     "output_type": "execute_result"
    }
   ],
   "source": [
    "sum(rng.binomial(n, p, 1) == 0) / 100"
   ]
  },
  {
   "cell_type": "markdown",
   "metadata": {},
   "source": [
    "Explanation of work completed above: \n",
    "\n",
    "\n",
    "\n",
    "Notes: \n",
    "I dont understand the relationship between 1 & 100 versus 2 & 50"
   ]
  },
  {
   "cell_type": "markdown",
   "metadata": {},
   "source": [
    "#### References for Task 3\n",
    "\n",
    "Binomial Distribution Documentation\n",
    "https://numpy.org/doc/stable/reference/random/generated/numpy.random.binomial.html\n",
    "\n",
    "___"
   ]
  },
  {
   "cell_type": "markdown",
   "metadata": {},
   "source": [
    "#### Task 4\n",
    "\n",
    "Simpson’s paradox is a well-known statistical paradox where a trend evident in a number of groups reverses when the groups are combined into one big data set. Use numpy to create four data sets, each with an x array and a corresponding y array, to demonstrate Simpson’s paradox. You might create your x arrays using numpy.linspace and create the y array for each\n",
    "x using notation like y = a * x + b where you choose the a and b for each x , y pair to demonstrate the paradox. \n",
    "\n",
    "___"
   ]
  },
  {
   "cell_type": "markdown",
   "metadata": {},
   "source": [
    "#### References for Task 4\n",
    "\n",
    "\n",
    "___"
   ]
  },
  {
   "cell_type": "markdown",
   "metadata": {},
   "source": [
    "### Bibliography"
   ]
  },
  {
   "cell_type": "markdown",
   "metadata": {},
   "source": [
    "LearnPython - Function\n",
    "https://www.learnpython.org/en/Functions\n",
    "\n",
    "\n",
    "Able.bio\n",
    "https://able.bio/rhett/check-if-a-key-exists-in-a-python-dictionary--73iajoz#:~:text=To%20simply%20check%20if%20a,')%20%23%20Dogs%20found!&text=A%20dictionary%20can%20be%20a,counting%20the%20occurrence%20of%20items.\n",
    "\n",
    "Stack Overflow\n",
    "https://stackoverflow.com/questions/45069108/use-list-as-function-definition-parameters-in-python\n",
    "\n",
    "Old Refernece guide for Integers: \n",
    "https://numpy.org/doc/stable/reference/random/generated/numpy.random.randint.html#numpy.random.randint\n"
   ]
  },
  {
   "cell_type": "code",
   "execution_count": null,
   "metadata": {},
   "outputs": [],
   "source": []
  },
  {
   "cell_type": "code",
   "execution_count": null,
   "metadata": {},
   "outputs": [],
   "source": []
  }
 ],
 "metadata": {
  "kernelspec": {
   "display_name": "Python 3",
   "language": "python",
   "name": "python3"
  },
  "language_info": {
   "codemirror_mode": {
    "name": "ipython",
    "version": 3
   },
   "file_extension": ".py",
   "mimetype": "text/x-python",
   "name": "python",
   "nbconvert_exporter": "python",
   "pygments_lexer": "ipython3",
   "version": "3.8.5"
  }
 },
 "nbformat": 4,
 "nbformat_minor": 4
}
